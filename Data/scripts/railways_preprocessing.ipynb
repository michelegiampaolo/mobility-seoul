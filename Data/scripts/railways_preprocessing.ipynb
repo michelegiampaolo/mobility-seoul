{
 "cells": [
  {
   "cell_type": "code",
   "execution_count": 204,
   "id": "6e507e89",
   "metadata": {},
   "outputs": [],
   "source": [
    "import geopandas as gpd\n",
    "import pandas as pd\n",
    "import numpy as np\n",
    "from shapely.geometry import Point\n",
    "from shapely.ops import linemerge, unary_union\n",
    "from shapely.geometry import LineString, MultiLineString\n",
    "\n",
    "\n"
   ]
  },
  {
   "cell_type": "code",
   "execution_count": 205,
   "id": "e7a81141",
   "metadata": {},
   "outputs": [
    {
     "name": "stdout",
     "output_type": "stream",
     "text": [
      "EPSG:5174\n",
      "EPSG:5174\n"
     ]
    }
   ],
   "source": [
    "base_dir  = 'D:/Desktop/MSc Thesis - Copy/'\n",
    "dir_osm   = 'D:/Desktop/MSc Thesis - Copy/Data/GIS data/south-korea-osm.shp/'\n",
    "dir_urban = 'D:/Desktop/MSc Thesis - Copy/shapefiles/crop/Urban cropped/'\n",
    "\n",
    "crop_neig_offset = gpd.read_file(base_dir + 'shapefiles/crop/crop_neighborhood_offset.shp')\n",
    "railways = gpd.read_file(dir_osm + 'gis_osm_railways_free_1.shp')\n",
    "railways.to_crs('EPSG:5174', inplace=True)\n",
    "\n",
    "print(crop_neig_offset.crs)\n",
    "print(railways.crs)\n",
    "\n"
   ]
  },
  {
   "cell_type": "code",
   "execution_count": 206,
   "id": "31642fd0",
   "metadata": {},
   "outputs": [
    {
     "name": "stderr",
     "output_type": "stream",
     "text": [
      "C:\\Users\\Michele\\AppData\\Local\\Temp\\ipykernel_21068\\417759647.py:1: DeprecationWarning: The 'unary_union' attribute is deprecated, use the 'union_all()' method instead.\n",
      "  railways = railways[railways.intersects(crop_neig_offset.unary_union)]\n"
     ]
    }
   ],
   "source": [
    "railways = railways[railways.intersects(crop_neig_offset.unary_union)]\n",
    "railways = railways[~railways['name'].isna()]"
   ]
  },
  {
   "cell_type": "code",
   "execution_count": 209,
   "id": "ad73d61b",
   "metadata": {},
   "outputs": [],
   "source": [
    "merged_lines = []\n",
    "\n",
    "for name, group in railways.groupby('name'):\n",
    "    # Combine segments into one geometry\n",
    "    united = unary_union(group.geometry)\n",
    "\n",
    "    # Ensure input to linemerge is a list or MultiLineString\n",
    "    if isinstance(united, LineString):\n",
    "        merged = united  # No need to merge; it's already a single line\n",
    "    else:\n",
    "        merged = linemerge(united)\n",
    "\n",
    "    # Handle both LineString and MultiLineString\n",
    "    if isinstance(merged, LineString):\n",
    "        merged_lines.append({'name': name, 'geometry': merged})\n",
    "    elif isinstance(merged, MultiLineString):\n",
    "        for part in merged.geoms:\n",
    "            merged_lines.append({'name': name, 'geometry': part})\n",
    "\n",
    "merged_railways = gpd.GeoDataFrame(merged_lines, crs=railways.crs)"
   ]
  },
  {
   "cell_type": "code",
   "execution_count": 210,
   "id": "e7ebd863",
   "metadata": {},
   "outputs": [],
   "source": [
    "import geopandas as gpd\n",
    "from shapely.geometry import LineString, MultiLineString\n",
    "\n",
    "buffer_distance = 300  # meters\n",
    "\n",
    "cleaned_lines = []\n",
    "\n",
    "for name, group in merged_railways.groupby('name'):\n",
    "    lines = list(group.geometry)\n",
    "    buffers = [line.buffer(buffer_distance, cap_style=1) for line in lines]\n",
    "\n",
    "    containment_counts = []\n",
    "\n",
    "    for i, line in enumerate(lines):\n",
    "        count = 0\n",
    "        for j, buf in enumerate(buffers):\n",
    "            if i != j and line.within(buf):\n",
    "                count += 1\n",
    "        containment_counts.append((i, count))\n",
    "\n",
    "    # Sort lines by how \"deeply contained\" they are\n",
    "    containment_counts.sort(key=lambda x: x[1])  # keep least contained lines\n",
    "\n",
    "    kept = set()\n",
    "    for i, _ in containment_counts:\n",
    "        # If not already marked for keeping and doesn't fall within another kept line's buffer\n",
    "        if all(not lines[i].within(buffers[j]) for j in kept):\n",
    "            kept.add(i)\n",
    "\n",
    "    # Ensure at least one line remains\n",
    "    if not kept and lines:\n",
    "        kept.add(containment_counts[0][0])  # keep least contained\n",
    "\n",
    "    final_geoms = [lines[i] for i in kept]\n",
    "    if len(final_geoms) == 1:\n",
    "        final_geom = final_geoms[0]\n",
    "    else:\n",
    "        final_geom = MultiLineString(final_geoms)\n",
    "\n",
    "    cleaned_lines.append({\n",
    "        'name': name,\n",
    "        'geometry': final_geom\n",
    "    })\n",
    "\n",
    "cleaned_gdf = gpd.GeoDataFrame(cleaned_lines, crs=merged_railways.crs)"
   ]
  },
  {
   "cell_type": "code",
   "execution_count": 211,
   "id": "b0e6052b",
   "metadata": {},
   "outputs": [],
   "source": [
    "drop_names = [\n",
    "    '경부제1본선', '경부제3본선', '경부선', '용산역 인상선',\n",
    "    '경부제3본선', '경인선', '경부제2선', '경인제2본',\n",
    "    '경부선', '경인제2본선', '경부선', '구로기지선',\n",
    "    '사당역 인상선', '남태령역 인상선'\n",
    "]\n",
    "cleaned_gdf = cleaned_gdf[~cleaned_gdf['name'].isin(drop_names)]\n"
   ]
  },
  {
   "cell_type": "code",
   "execution_count": 212,
   "id": "41e93e97",
   "metadata": {},
   "outputs": [],
   "source": [
    "railways['segment_id'] = railways.index\n",
    "matched_segments = []\n",
    "\n",
    "for idx, row in cleaned_gdf.iterrows():\n",
    "    cleaned_geom = row.geometry\n",
    "    name = row['name']\n",
    "\n",
    "    candidates = railways[railways['name'] == name]\n",
    "\n",
    "    for segment_idx, segment_row in candidates.iterrows():\n",
    "        segment_geom = segment_row.geometry\n",
    "\n",
    "        if segment_geom.intersects(cleaned_geom):\n",
    "            matched_segments.append(segment_row)\n",
    "\n",
    "final_segments = gpd.GeoDataFrame(matched_segments, crs=railways.crs)"
   ]
  },
  {
   "cell_type": "code",
   "execution_count": 213,
   "id": "919c9aa4",
   "metadata": {},
   "outputs": [],
   "source": [
    "\n",
    "\n",
    "final_segments.to_file(base_dir + 'Data/GIS data/Urban cropped/tests/railways_cropped11.shp', driver='ESRI Shapefile')"
   ]
  }
 ],
 "metadata": {
  "kernelspec": {
   "display_name": "Python (.venvth)",
   "language": "python",
   "name": "venvth"
  },
  "language_info": {
   "codemirror_mode": {
    "name": "ipython",
    "version": 3
   },
   "file_extension": ".py",
   "mimetype": "text/x-python",
   "name": "python",
   "nbconvert_exporter": "python",
   "pygments_lexer": "ipython3",
   "version": "3.11.6"
  }
 },
 "nbformat": 4,
 "nbformat_minor": 5
}
