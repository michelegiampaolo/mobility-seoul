{
 "cells": [
  {
   "cell_type": "code",
   "execution_count": 1,
   "id": "d964451c",
   "metadata": {},
   "outputs": [],
   "source": [
    "import os\n",
    "import pandas as pd\n",
    "import numpy as np\n"
   ]
  },
  {
   "cell_type": "code",
   "execution_count": 2,
   "id": "17add872",
   "metadata": {},
   "outputs": [],
   "source": [
    "# --- config ---\n",
    "base_dir = \"D:/Desktop/MSc Thesis - Copy/\"\n",
    "weather_csv = os.path.join(base_dir, \"Data/S-DoT_sensors/S-DoT_NATURE_20230724-20230826_en_preprocessed.csv\")\n"
   ]
  },
  {
   "cell_type": "code",
   "execution_count": 3,
   "id": "e2d7e588",
   "metadata": {},
   "outputs": [],
   "source": [
    "df = pd.read_csv(weather_csv)\n",
    "\n",
    "df[\"datetime\"] = pd.to_datetime(df[\"datetime\"], errors=\"coerce\", utc=True).dt.tz_convert(\"Asia/Seoul\")\n",
    "df = df.dropna(subset=[\"serial\", \"datetime\"]).sort_values([\"serial\", \"datetime\"]).reset_index(drop=True)\n",
    "\n",
    "\n",
    "# add month column\n",
    "df[\"month\"] = df[\"datetime\"].dt.month\n",
    "# add day column\n",
    "df[\"day\"] = df[\"datetime\"].dt.day\n",
    "# add hour column\n",
    "df[\"hour\"] = df[\"datetime\"].dt.hour\n",
    "# add day of week column (0=Mon, 6=Sun)\n",
    "df[\"day_of_week\"] = df[\"datetime\"].dt.dayofweek\n"
   ]
  },
  {
   "cell_type": "code",
   "execution_count": 4,
   "id": "899a1632",
   "metadata": {},
   "outputs": [],
   "source": [
    "var_cols = [\n",
    "    \"temperature_mean_C\",\n",
    "    \"humidity_mean_pc\",\n",
    "    \"PM10_mean_microgm3\",\n",
    "]"
   ]
  },
  {
   "cell_type": "code",
   "execution_count": 5,
   "id": "b4d13d16",
   "metadata": {},
   "outputs": [],
   "source": [
    "# # --- filter: weekdays only and hours 08..23 inclusive ---\n",
    "# is_weekday = df[\"datetime\"].dt.weekday <= 4   # Mon=0 .. Fri=4\n",
    "# in_hours   = df[\"datetime\"].dt.hour.between(8, 23)  # inclusive\n",
    "# df_filt = df[is_weekday & in_hours].copy().sort_values([\"serial\", \"datetime\"]).reset_index(drop=True)"
   ]
  },
  {
   "cell_type": "code",
   "execution_count": 6,
   "id": "1e51ee48",
   "metadata": {},
   "outputs": [],
   "source": [
    "# # --- helper: minutes since previous NON-NULL value for a feature (per station) ---\n",
    "# def add_mins_to_nearest_valid(df_in: pd.DataFrame, feature: str,\n",
    "#                               id_col: str = \"serial\", time_col: str = \"datetime\") -> pd.DataFrame:\n",
    "#     df_out = df_in.copy()\n",
    "#         # datetime only when the feature is non-null; NaT otherwise\n",
    "#     dt_if_valid = df_out[time_col].where(df_out[feature].notna())\n",
    "#         # last valid datetime carried forward per station\n",
    "#     last_valid_dt = dt_if_valid.groupby(df_out[id_col]).ffill()\n",
    "#         # minutes since that last valid\n",
    "#     mins = (df_out[time_col] - last_valid_dt).dt.total_seconds() / 60.0\n",
    "#         # round to whole minutes; keep NaN as missing (before first valid)\n",
    "#     df_out[f\"mins_to_nearest_valid__{feature}\"] = mins.round().astype(\"Int64\")\n",
    "#     return df_out"
   ]
  },
  {
   "cell_type": "code",
   "execution_count": 7,
   "id": "09a21a7e",
   "metadata": {},
   "outputs": [],
   "source": [
    "def add_minutes_to_nearest_valid(\n",
    "    df_in: pd.DataFrame,\n",
    "    var_cols: list[str],\n",
    "    id_col: str = \"serial\",\n",
    "    time_col: str = \"datetime\",\n",
    ") -> pd.DataFrame:\n",
    "    \"\"\"\n",
    "    For each feature in var_cols and for each row:\n",
    "      - if value is non-null -> 0 minutes\n",
    "      - else -> minutes to the nearest (prev or next) non-null value within the same station\n",
    "      - if a station has no valid values at all -> stays NaN\n",
    "    Writes one column per feature: mins_to_nearest_valid__<feature> (Int64).\n",
    "    \"\"\"\n",
    "    df = df_in.sort_values([id_col, time_col]).copy()\n",
    "\n",
    "    for feature in var_cols:\n",
    "        if feature not in df.columns:\n",
    "            continue  # skip missing features gracefully\n",
    "\n",
    "        t = df[time_col]\n",
    "        v = df[feature]\n",
    "\n",
    "        # timestamps of previous and next valid readings within each station\n",
    "        prev_time = t.where(v.notna()).groupby(df[id_col]).ffill()\n",
    "        next_time = t.where(v.notna()).groupby(df[id_col]).bfill()\n",
    "\n",
    "        # distances (minutes) to prev/next valid\n",
    "        dprev = (t - prev_time).dt.total_seconds() / 60.0\n",
    "        dnext = (next_time - t).dt.total_seconds() / 60.0\n",
    "\n",
    "        # row-wise minimum of the two distances (skip NaNs automatically)\n",
    "        nearest = pd.concat([dprev, dnext], axis=1).min(axis=1, skipna=True)\n",
    "\n",
    "        # rows that already have a value are distance 0\n",
    "        nearest = nearest.mask(v.notna(), 0.0)\n",
    "\n",
    "        # round to whole minutes; keep NaN where no valid exists either side (or ever)\n",
    "        df[f\"mins_to_nearest_valid__{feature}\"] = nearest.round().astype(\"Int64\")\n",
    "\n",
    "    return df"
   ]
  },
  {
   "cell_type": "code",
   "execution_count": 8,
   "id": "ef893e10",
   "metadata": {},
   "outputs": [
    {
     "name": "stdout",
     "output_type": "stream",
     "text": [
      "         serial                  datetime  \\\n",
      "0   OC3CL200010 2023-09-25 01:08:04+09:00   \n",
      "1   OC3CL200010 2023-09-25 02:08:06+09:00   \n",
      "2   OC3CL200010 2023-09-25 03:08:05+09:00   \n",
      "3   OC3CL200010 2023-09-25 06:08:03+09:00   \n",
      "4   OC3CL200010 2023-09-25 07:08:03+09:00   \n",
      "5   OC3CL200010 2023-09-25 08:08:02+09:00   \n",
      "6   OC3CL200010 2023-09-25 09:08:04+09:00   \n",
      "7   OC3CL200010 2023-09-25 10:08:06+09:00   \n",
      "8   OC3CL200010 2023-09-25 11:08:04+09:00   \n",
      "9   OC3CL200010 2023-09-25 12:08:08+09:00   \n",
      "10  OC3CL200010 2023-09-25 13:08:07+09:00   \n",
      "11  OC3CL200010 2023-09-25 14:08:08+09:00   \n",
      "\n",
      "    mins_to_nearest_valid__temperature_mean_C  \\\n",
      "0                                           0   \n",
      "1                                           0   \n",
      "2                                           0   \n",
      "3                                           0   \n",
      "4                                           0   \n",
      "5                                           0   \n",
      "6                                           0   \n",
      "7                                           0   \n",
      "8                                           0   \n",
      "9                                           0   \n",
      "10                                          0   \n",
      "11                                          0   \n",
      "\n",
      "    mins_to_nearest_valid__humidity_mean_pc  \\\n",
      "0                                         0   \n",
      "1                                         0   \n",
      "2                                         0   \n",
      "3                                         0   \n",
      "4                                         0   \n",
      "5                                         0   \n",
      "6                                         0   \n",
      "7                                         0   \n",
      "8                                         0   \n",
      "9                                         0   \n",
      "10                                        0   \n",
      "11                                        0   \n",
      "\n",
      "    mins_to_nearest_valid__PM10_mean_microgm3  \n",
      "0                                           0  \n",
      "1                                           0  \n",
      "2                                           0  \n",
      "3                                           0  \n",
      "4                                           0  \n",
      "5                                           0  \n",
      "6                                           0  \n",
      "7                                           0  \n",
      "8                                           0  \n",
      "9                                           0  \n",
      "10                                          0  \n",
      "11                                          0  \n"
     ]
    }
   ],
   "source": [
    "# --- compute for each feature on the dataframe ---\n",
    "# for col in var_cols:\n",
    "#     df = add_minutes_to_nearest_valid(df, col)\n",
    "df = add_minutes_to_nearest_valid(df, var_cols)\n",
    "\n",
    "\n",
    "# quick peek\n",
    "cols_to_show = [\"serial\", \"datetime\"] + [f\"mins_to_nearest_valid__{c}\" for c in var_cols]\n",
    "print(df[cols_to_show].head(12))"
   ]
  }
 ],
 "metadata": {
  "kernelspec": {
   "display_name": "Python (.venvth)",
   "language": "python",
   "name": "venvth"
  },
  "language_info": {
   "codemirror_mode": {
    "name": "ipython",
    "version": 3
   },
   "file_extension": ".py",
   "mimetype": "text/x-python",
   "name": "python",
   "nbconvert_exporter": "python",
   "pygments_lexer": "ipython3",
   "version": "3.11.6"
  }
 },
 "nbformat": 4,
 "nbformat_minor": 5
}
