{
 "cells": [
  {
   "cell_type": "code",
   "execution_count": null,
   "id": "6e507e89",
   "metadata": {},
   "outputs": [],
   "source": [
    "import geopandas as gpd\n",
    "import pandas as pd\n",
    "import numpy as np\n",
    "from shapely.geometry import Point\n",
    "from shapely.ops import linemerge, unary_union\n",
    "from shapely.geometry import LineString, MultiLineString\n",
    "\n",
    "\n"
   ]
  },
  {
   "cell_type": "code",
   "execution_count": 5,
   "id": "e7a81141",
   "metadata": {},
   "outputs": [
    {
     "name": "stdout",
     "output_type": "stream",
     "text": [
      "EPSG:5174\n",
      "EPSG:5174\n"
     ]
    }
   ],
   "source": [
    "base_dir  = 'D:/Desktop/MSc Thesis - Copy/'\n",
    "dir_osm   = 'D:/Desktop/MSc Thesis - Copy/Data/GIS data/south-korea-osm.shp/'\n",
    "dir_urban = 'D:/Desktop/MSc Thesis - Copy/Data/GIS data/Urban cropped/'\n",
    "\n",
    "crop_neig_offset = gpd.read_file(base_dir + 'shapefiles/crop/crop_neighborhood_offset.shp')\n",
    "roads = gpd.read_file(dir_urban + 'roads_cropped_cleaned.shp')\n",
    "roads.to_crs('EPSG:5174', inplace=True)\n",
    "\n",
    "print(crop_neig_offset.crs)\n",
    "print(roads.crs)\n",
    "\n"
   ]
  },
  {
   "cell_type": "code",
   "execution_count": 6,
   "id": "31642fd0",
   "metadata": {},
   "outputs": [],
   "source": [
    "roads = roads[roads['fclass'].isin(['primary', 'secondary', 'tertiary', 'residential', 'service', 'living_street', 'trunk'])]"
   ]
  },
  {
   "cell_type": "code",
   "execution_count": 8,
   "id": "919c9aa4",
   "metadata": {},
   "outputs": [],
   "source": [
    "\n",
    "\n",
    "roads.to_file(base_dir + 'Data/GIS data/Urban cropped/tests/roads_cropped_cleaned2.shp', driver='ESRI Shapefile')"
   ]
  }
 ],
 "metadata": {
  "kernelspec": {
   "display_name": "Python (.venvth)",
   "language": "python",
   "name": "venvth"
  },
  "language_info": {
   "codemirror_mode": {
    "name": "ipython",
    "version": 3
   },
   "file_extension": ".py",
   "mimetype": "text/x-python",
   "name": "python",
   "nbconvert_exporter": "python",
   "pygments_lexer": "ipython3",
   "version": "3.11.6"
  }
 },
 "nbformat": 4,
 "nbformat_minor": 5
}
