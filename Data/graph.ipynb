{
 "cells": [
  {
   "cell_type": "code",
   "execution_count": 50,
   "metadata": {},
   "outputs": [
    {
     "name": "stdout",
     "output_type": "stream",
     "text": [
      "True\n",
      "12.1\n",
      "NVIDIA GeForce GTX 960M\n"
     ]
    }
   ],
   "source": [
    "import os\n",
    "import pandas as pd\n",
    "import numpy as np\n",
    "import torch\n",
    "import torch_geometric_temporal\n",
    "import matplotlib.pyplot as plt\n",
    "import torch.nn as nn\n",
    "import random\n",
    "\n",
    "\n",
    "print(torch.cuda.is_available())  # should print True\n",
    "print(torch.version.cuda)  # should print 12.1\n",
    "print(torch.cuda.get_device_name(0))  # Should print your GPU name\n",
    "\n",
    "from torch_geometric.data import Data\n",
    "from torch_geometric_temporal.signal import DynamicGraphStaticSignal\n",
    "from torch_geometric_temporal.signal import DynamicGraphTemporalSignal\n",
    "\n"
   ]
  },
  {
   "cell_type": "code",
   "execution_count": 51,
   "metadata": {},
   "outputs": [],
   "source": [
    "# additional things to possibly implement\n",
    "#       - sinusoidal time encoding for both daily and weekly patterns\n",
    "#       - one hot encoding for day of week\n",
    "#       - links for distance between nodes or distance attributes in movement links (but might be already captured by node coordinates)\n",
    "\n",
    "# things to still implement\n",
    "#       - morphological node attributes\n",
    "#       - weather node attributes\n",
    "#       - better grouping of positions into nodes\n"
   ]
  },
  {
   "cell_type": "code",
   "execution_count": 52,
   "metadata": {},
   "outputs": [],
   "source": [
    "#-- importing the node and position link csv files --\n",
    "base_dir = 'D:/Desktop/MSc Thesis - Copy/'\n",
    "\n",
    "nodes_df = pd.read_csv(os.path.join(base_dir, 'shapefiles/_network_parts_1/nodes.csv'), header = 0)\n",
    "positions_links_df = pd.read_csv(os.path.join(base_dir, 'shapefiles/_network_parts_1/positions_links.csv'), header = 0)\n",
    "\n",
    "\n",
    "#-- adjusting some of the imported fields --\n",
    "#if there is a gemoetry column, drop it\n",
    "if 'geometry' in nodes_df.columns:\n",
    "    nodes_df.drop(columns=['geometry'], inplace=True) #dropping the geometry column\n",
    "\n",
    "for col in nodes_df.select_dtypes(include=['bool']).columns: # converting boolean columnkks to integers\n",
    "    nodes_df[col] = nodes_df[col].astype(int)\n",
    "\n",
    "# converting time stamps\n",
    "positions_links_df[\"timestamp\"] = pd.to_datetime(positions_links_df[\"merged_datetime\"], format='ISO8601')                                                   \n",
    "positions_links_df[\"merged_datetime\"] = pd.to_datetime(positions_links_df['merged_datetime'], format='ISO8601').astype(int) // 10**9    \n",
    "#positions_links_df.set_index('merged_datetime', inplace=True)    # setting time as index\n",
    "\n",
    "# making sure ids are integers\n",
    "positions_links_df['id_participant'].astype(int)\n",
    "positions_links_df[\"node_id\"] = positions_links_df[\"node_id\"].astype(int)\n",
    "positions_links_df[\"prev_node_id\"] = positions_links_df[\"prev_node_id\"].astype(int)\n",
    "positions_links_df[\"id_participant\"] = positions_links_df[\"id_participant\"].astype(int)\n",
    "\n",
    "# making the ids start from 0\n",
    "nodes_df[\"id\"] = nodes_df[\"node_id\"] - 1\n",
    "positions_links_df[\"node_id\"] = positions_links_df[\"node_id\"] - 1\n",
    "positions_links_df[\"prev_node_id\"] = positions_links_df[\"prev_node_id\"] - 1\n",
    "positions_links_df[\"id_participant\"] = positions_links_df[\"id_participant\"] - 1"
   ]
  },
  {
   "cell_type": "code",
   "execution_count": 53,
   "metadata": {},
   "outputs": [],
   "source": [
    "# dividing the data into timee bins\n",
    "\n",
    "interval = 60 * 60          # 3600 seconds (1 hour)\n",
    "\n",
    "start_time = positions_links_df[\"merged_datetime\"].min()\n",
    "end_time = positions_links_df[\"merged_datetime\"].max()\n",
    "\n",
    "positions_links_df['time_seconds'] = positions_links_df['merged_datetime'] - start_time         # time in seconds since the start\n",
    "positions_links_df['time_bin'] = (positions_links_df[\"time_seconds\"] // interval).astype(int)   # dividing them into time bins"
   ]
  },
  {
   "cell_type": "code",
   "execution_count": 54,
   "metadata": {},
   "outputs": [],
   "source": [
    "# adding day and week time fields \n",
    "positions_links_df[\"hour_of_day\"] = positions_links_df[\"timestamp\"].dt.hour\n",
    "positions_links_df[\"day_of_week\"] = positions_links_df[\"day_of_week\"] = positions_links_df[\"timestamp\"].dt.dayofweek  # Monday=0 ... Sunday=6"
   ]
  },
  {
   "cell_type": "code",
   "execution_count": 55,
   "metadata": {},
   "outputs": [],
   "source": [
    "coords = nodes_df[['node_x', 'node_y']].values\n",
    "coords_min = coords.min(axis=0)\n",
    "coords_max = coords.max(axis=0)\n",
    "normalized_coords = (coords - coords_min) / (coords_max - coords_min)  # normalize coordinates to [0, 1]\n",
    "\n",
    "binary_features = nodes_df[['Indoors', 'in_Seoul']].values\n",
    "\n",
    "node_feature_array = np.hstack([normalized_coords, binary_features])\n",
    "node_features = torch.tensor(node_feature_array, dtype=torch.float)"
   ]
  },
  {
   "cell_type": "code",
   "execution_count": 56,
   "metadata": {},
   "outputs": [],
   "source": [
    "features = []\n",
    "edge_indices = []\n",
    "edge_weights = []\n",
    "targets = []\n",
    "edge_features = []\n",
    "\n",
    "min_bin = int(positions_links_df['time_bin'].min())\n",
    "max_bin = int(positions_links_df['time_bin'].max())\n",
    "all_time_bins = range(min_bin, max_bin + 1)\n",
    "\n",
    "for t in all_time_bins:\n",
    "    df_now = positions_links_df[positions_links_df['time_bin'] == t]\n",
    "    df_next = positions_links_df[positions_links_df['time_bin'] == t + 1]\n",
    "\n",
    "    if df_now.empty:\n",
    "        edge_index = torch.empty((2, 0), dtype=torch.long)\n",
    "        edge_weight = torch.empty((0,))\n",
    "        edge_feat = torch.empty((0,4))\n",
    "    else:\n",
    "        source_node = torch.tensor(df_now[\"prev_node_id\"].values, dtype=torch.long)\n",
    "        destination_node = torch.tensor(df_now[\"node_id\"].values, dtype=torch.long)\n",
    "        edge_index = torch.stack([source_node, destination_node], dim=0)\n",
    "        edge_weight = torch.ones(edge_index.size(1))\n",
    "        edge_feat = torch.tensor(df_now[[\"hour_of_day\", \"day_of_week\", \"id_participant\", \"speed\"]].values, dtype=torch.float)\n",
    "\n",
    "    features.append(node_features)\n",
    "    edge_indices.append(edge_index)\n",
    "    edge_weights.append(edge_weight)\n",
    "    edge_features.append(edge_feat)\n",
    "\n",
    "    if df_next.empty:\n",
    "        next_edge_index = torch.empty((2, 0), dtype=torch.long)\n",
    "    else:\n",
    "        next_source_node = torch.tensor(df_next[\"prev_node_id\"].values, dtype=torch.long)\n",
    "        next_destination_node = torch.tensor(df_next[\"node_id\"].values, dtype=torch.long)\n",
    "        next_edge_index = torch.stack([next_source_node, next_destination_node], dim=0)\n",
    "    \n",
    "    targets.append(next_edge_index)\n"
   ]
  },
  {
   "cell_type": "code",
   "execution_count": 57,
   "metadata": {},
   "outputs": [],
   "source": [
    "dataset = DynamicGraphTemporalSignal(\n",
    "    edge_indices=edge_indices,\n",
    "    edge_weights=edge_weights,\n",
    "    features=features,\n",
    "    targets=targets,\n",
    ")"
   ]
  },
  {
   "cell_type": "code",
   "execution_count": 58,
   "metadata": {},
   "outputs": [
    {
     "name": "stdout",
     "output_type": "stream",
     "text": [
      "Node features shape: torch.Size([3774, 4])\n",
      "Edge index shape: torch.Size([2, 2])\n",
      "Edge weight shape: torch.Size([2])\n",
      "Target edge index shape: torch.Size([2, 0])\n",
      "First 5 node features:\n",
      " tensor([[1.0000, 0.5000, 0.0000, 0.0000],\n",
      "        [0.8536, 0.8536, 0.0000, 0.0000],\n",
      "        [0.5000, 1.0000, 0.0000, 0.0000],\n",
      "        [0.1464, 0.8536, 1.0000, 0.0000],\n",
      "        [0.0000, 0.5000, 0.0000, 0.0000]])\n",
      "First 5 edges:\n",
      " tensor([[1476, 1477],\n",
      "        [1477,   28]])\n",
      "First 5 target edges:\n",
      " tensor([], size=(2, 0), dtype=torch.int64)\n"
     ]
    }
   ],
   "source": [
    "t = 0  # time step to print info about\n",
    "\n",
    "# safe access — not relying on dataset[t].y\n",
    "snapshot = dataset.features[t]  # node features\n",
    "edge_index = dataset.edge_indices[t]\n",
    "edge_weight = dataset.edge_weights[t]\n",
    "target_edge_index = targets[t]  # manual target\n",
    "\n",
    "\n",
    "print(\"Node features shape:\", snapshot.shape)\n",
    "print(\"Edge index shape:\", edge_index.shape)\n",
    "print(\"Edge weight shape:\", edge_weight.shape)\n",
    "print(\"Target edge index shape:\", target_edge_index.shape)\n",
    "\n",
    "print(\"First 5 node features:\\n\", snapshot[:5])\n",
    "print(\"First 5 edges:\\n\", edge_index[:, :5])\n",
    "print(\"First 5 target edges:\\n\", target_edge_index[:, :5])\n"
   ]
  },
  {
   "cell_type": "code",
   "execution_count": 59,
   "metadata": {},
   "outputs": [
    {
     "data": {
      "image/png": "[encoded data removed]",
      "text/plain": [
       "<Figure size 1200x600 with 1 Axes>"
      ]
     },
     "metadata": {},
     "output_type": "display_data"
    }
   ],
   "source": [
    "# Count the number of rows for each time interval\n",
    "time_interval_counts = positions_links_df.groupby(\"time_bin\").size()\n",
    "\n",
    "# Plot the counts\n",
    "plt.figure(figsize=(12, 6))\n",
    "plt.bar(time_interval_counts.index, time_interval_counts.values, color='b', width=3600)  # Adjust width for better spacing\n",
    "plt.title(\"Number of Rows per Time Interval\", fontsize=16)\n",
    "plt.xlabel(\"Time Interval\", fontsize=14)\n",
    "plt.ylabel(\"Number of Rows\", fontsize=14)\n",
    "plt.grid(axis='x')\n",
    "\n",
    "\n",
    "x_labels = time_interval_counts.index[::24]  # Select every 24th interval\n",
    "plt.xticks(x_labels, labels=pd.to_datetime(x_labels, unit='s').strftime('%Y-%m-%d %H:%M'), rotation=45)\n",
    "\n",
    "plt.tight_layout()\n",
    "plt.show()"
   ]
  },
  {
   "cell_type": "code",
   "execution_count": 60,
   "metadata": {},
   "outputs": [
    {
     "data": {
      "image/png": "[encoded data removed]",
      "text/plain": [
       "<Figure size 640x480 with 1 Axes>"
      ]
     },
     "metadata": {},
     "output_type": "display_data"
    }
   ],
   "source": [
    "plt.hist(positions_links_df[\"speed\"], bins=100)\n",
    "plt.xlabel(\"Speed (m/s)\")\n",
    "plt.ylabel(\"Count\")\n",
    "plt.title(\"Speed Distribution\")\n",
    "plt.grid()\n",
    "plt.show()"
   ]
  },
  {
   "cell_type": "code",
   "execution_count": 61,
   "metadata": {},
   "outputs": [],
   "source": [
    "from torch_geometric_temporal.nn.recurrent import EvolveGCNH\n",
    "from torch_geometric_temporal.nn.recurrent import GConvGRU\n",
    "\n",
    "\n",
    "class MovementLinkPredictor(nn.Module):\n",
    "    def __init__(self, in_channels, out_channels):\n",
    "        super().__init__()\n",
    "        self.encoder = GConvGRU(in_channels, out_channels, K=2)  # GCN neighborhood depth K=2\n",
    "        \n",
    "        # self.decoder = nn.Sequential(\n",
    "        #     nn.Linear(2 * out_channels + edge_feat_dim, 64),\n",
    "        #     nn.ReLU(),\n",
    "        #     nn.Linear(64, 1),\n",
    "        #     nn.Sigmoid()\n",
    "        # )\n",
    "\n",
    "        # MLP for edge feature context\n",
    "        \n",
    "        # self.edge_mlp = nn.Sequential(\n",
    "        #     nn.Linear(edge_feat_dim + 1, 32),\n",
    "        #     nn.ReLU(),\n",
    "        #     nn.Linear(32, 1)\n",
    "        # )\n",
    "\n",
    "\n",
    "    def forward_encoder(self, x_seq, edge_index_seq):\n",
    "        z = None\n",
    "        for x, ei in zip(x_seq, edge_index_seq):\n",
    "            if ei.size(1) == 0:\n",
    "                continue\n",
    "            z = self.encoder(x, ei)\n",
    "        if z is None:\n",
    "            raise ValueError(\"All time steps in this window are empty (no edges to learn from).\")\n",
    "        return z\n",
    "    \n",
    "    def forward_decoder(self, z, edge_index):\n",
    "        src = z[edge_index[0]]\n",
    "        dst = z[edge_index[1]]\n",
    "        similarity = (src * dst).sum(dim=1)\n",
    "        return torch.sigmoid(similarity)\n",
    "    \n",
    "        #context = self.edge_mlp(edge_feat).view(-1)\n",
    "        #return torch.sigmoid(similarity + context)\n",
    "        \n",
    "\n",
    "    # def forward_decoder(self, z, edge_index, edge_feat):\n",
    "    #     src = z[edge_index[0]]\n",
    "    #     dst = z[edge_index[1]]\n",
    "    #     combined = torch.cat([src, dst, edge_feat], dim=1)\n",
    "    #     return self.decoder(combined).view(-1)\n",
    "\n",
    "\n",
    "\n",
    "\n",
    "\n",
    "# class MovementLinkPredictor(nn.Module):\n",
    "#     def __init__(self, in_channels, out_channels, num_nodes, edge_feat_dim):\n",
    "#         super().__init__()\n",
    "#         self.encoder = EvolveGCNH(in_channels, out_channels, num_nodes)\n",
    "#         self.decoder = nn.Sequential(\n",
    "#             nn.Linear(2 * out_channels + edge_feat_dim, 64),\n",
    "#             nn.ReLU(),\n",
    "#             nn.Linear(64, 1),\n",
    "#             nn.Sigmoid()\n",
    "#         )\n",
    "\n",
    "#     def forward_encoder(self, x_seq, edge_index_seq, edge_weight_seq):\n",
    "#         z = None\n",
    "#         for x, ei, ew in zip(x_seq, edge_index_seq, edge_weight_seq):\n",
    "#             if ei.size(1) == 0:\n",
    "#                 continue  # Skip if no edges\n",
    "#             z = self.encoder(x, ei, ew)\n",
    "#         if z is None:\n",
    "#             raise ValueError(\"All time steps in this window are empty (no edges to learn from).\")\n",
    "#         return z\n",
    "\n",
    "#     def forward_decoder(self, z, edge_index, edge_feat):\n",
    "#         src = z[edge_index[0]]\n",
    "#         dst = z[edge_index[1]]\n",
    "#         combined = torch.cat([src, dst, edge_feat], dim=1)\n",
    "#         return self.decoder(combined).squeeze()\n",
    "\n",
    "\n",
    "\n",
    "# class MovementLinkPredictor(torch.nn.Module):\n",
    "#     def __init__(self, in_channels, out_channels, num_nodes):\n",
    "#         super().__init__()\n",
    "#         self.encoder = EvolveGCNH(in_channels=in_channels,      # number of input features per node\n",
    "#                                   out_channels=out_channels,    # size of the embedding vector for each node\n",
    "#                                   num_nodes=num_nodes)          # total number of nodes in the graph\n",
    "    \n",
    "#     def forward(self, x, edge_index, edge_weight):\n",
    "#         z = self.encoder(x, edge_index, edge_weight)\n",
    "#         return z\n",
    "\n",
    "#     def decode(self, z, edge_index):\n",
    "#         src = z[edge_index[0]]\n",
    "#         dst = z[edge_index[1]]\n",
    "#         score = (src * dst).sum(dim=-1)\n",
    "#         return score"
   ]
  },
  {
   "cell_type": "code",
   "execution_count": 62,
   "metadata": {},
   "outputs": [
    {
     "data": {
      "image/png": "[encoded data removed]",
      "text/plain": [
       "<Figure size 640x480 with 1 Axes>"
      ]
     },
     "metadata": {},
     "output_type": "display_data"
    },
    {
     "name": "stdout",
     "output_type": "stream",
     "text": [
      "95th percentile distance: 4542.60 meters\n"
     ]
    }
   ],
   "source": [
    "from scipy.spatial.distance import euclidean\n",
    "\n",
    "# computing distances of all movments\n",
    "\n",
    "def compute_edge_distances(positions_links_df, coords_array):\n",
    "    distances = []\n",
    "    for _, row in positions_links_df.iterrows():\n",
    "        src = int(row[\"prev_node_id\"])\n",
    "        dst = int(row[\"node_id\"])\n",
    "        dist = euclidean(coords_array[src], coords_array[dst])\n",
    "        distances.append(dist)\n",
    "    return distances\n",
    "\n",
    "import matplotlib.pyplot as plt\n",
    "\n",
    "coords_array = nodes_df[['node_x', 'node_y']].values\n",
    "dists = compute_edge_distances(positions_links_df, coords_array)\n",
    "\n",
    "\n",
    "plt.hist(dists, bins=100)\n",
    "plt.xlabel(\"Distance (meters)\")\n",
    "plt.ylabel(\"Count\")\n",
    "plt.title(\"movement distances\")\n",
    "plt.grid()\n",
    "plt.show()\n",
    "\n",
    "threshold_95 = np.percentile(dists, 95)\n",
    "print(f\"95th percentile distance: {threshold_95:.2f} meters\")"
   ]
  },
  {
   "cell_type": "code",
   "execution_count": 63,
   "metadata": {},
   "outputs": [],
   "source": [
    "from scipy.spatial.distance import cdist\n",
    "\n",
    "# storing distances between ALL nodes\n",
    "dist_matrix = cdist(coords_array, coords_array, metric=\"euclidean\")  # shape [num_nodes, num_nodes]\n",
    "def get_edge_distances(edge_index, dist_matrix):\n",
    "    src = edge_index[0].numpy()\n",
    "    dst = edge_index[1].numpy()\n",
    "    dists = dist_matrix[src, dst]\n",
    "    return torch.tensor(dists, dtype=torch.float).unsqueeze(1)\n"
   ]
  },
  {
   "cell_type": "code",
   "execution_count": 64,
   "metadata": {},
   "outputs": [],
   "source": [
    "# --- Negative Sampling with Distance---\n",
    "\n",
    "def sample_spatial_negatives(pos_edge_index, dist_matrix, max_distance_meters, num_samples):\n",
    "    num_nodes = dist_matrix.shape[0]\n",
    "    pos_set = set((i.item(), j.item()) for i, j in zip(pos_edge_index[0], pos_edge_index[1]))\n",
    "\n",
    "    neg_edges = set()\n",
    "    attempts = 0\n",
    "    max_attempts = 10 * num_samples\n",
    "\n",
    "    while len(neg_edges) < num_samples and attempts < max_attempts:\n",
    "        i = torch.randint(0, num_nodes, (1,)).item()\n",
    "        j = torch.randint(0, num_nodes, (1,)).item()\n",
    "\n",
    "        if (i, j) in pos_set or i == j:\n",
    "            attempts += 1\n",
    "            continue\n",
    "\n",
    "        if dist_matrix[i, j] <= max_distance_meters:\n",
    "            neg_edges.add((i, j))\n",
    "\n",
    "        attempts += 1\n",
    "\n",
    "    if not neg_edges:\n",
    "        return torch.empty((2, 0), dtype=torch.long)\n",
    "\n",
    "    src, dst = zip(*neg_edges)\n",
    "    return torch.tensor([src, dst], dtype=torch.long)"
   ]
  },
  {
   "cell_type": "code",
   "execution_count": 65,
   "metadata": {},
   "outputs": [],
   "source": [
    "# --- Random Negative Sampling (without taking distance into account) ---\n",
    "def sample_negative_edges(pos_edge_index, num_nodes, num_samples):\n",
    "    neg_edges = set()\n",
    "    pos_set = set((i.item(), j.item()) for i, j in zip(pos_edge_index[0], pos_edge_index[1]))\n",
    "    while len(neg_edges) < num_samples:\n",
    "        i = torch.randint(0, num_nodes, (1,)).item()\n",
    "        j = torch.randint(0, num_nodes, (1,)).item()\n",
    "        if (i, j) not in pos_set:\n",
    "            neg_edges.add((i, j))\n",
    "    src, dst = zip(*neg_edges)\n",
    "    return torch.tensor([src, dst], dtype=torch.long)"
   ]
  },
  {
   "cell_type": "code",
   "execution_count": 66,
   "metadata": {},
   "outputs": [],
   "source": [
    "# --- Time-Stratified Split ---\n",
    "def generate_stratified_split(all_bins, train_ratio=0.8, stride=3):\n",
    "    train_bins = all_bins[::stride]\n",
    "    test_bins = [b for b in all_bins if b not in train_bins]\n",
    "    cutoff = int(len(train_bins) * train_ratio)\n",
    "    return train_bins[:cutoff], test_bins"
   ]
  },
  {
   "cell_type": "code",
   "execution_count": 67,
   "metadata": {},
   "outputs": [
    {
     "name": "stderr",
     "output_type": "stream",
     "text": [
      "c:\\Users\\Michele\\AppData\\Local\\Programs\\Python\\Python311\\Lib\\site-packages\\torch\\optim\\lr_scheduler.py:62: UserWarning: The verbose parameter is deprecated. Please use get_last_lr() to access the learning rate.\n",
      "  warnings.warn(\n"
     ]
    }
   ],
   "source": [
    "from torch.optim import Adam\n",
    "from torch.optim.lr_scheduler import ReduceLROnPlateau\n",
    "\n",
    "\n",
    "# --- Setup ---\n",
    "window_size = 5\n",
    "embedding_dim = 64\n",
    "learning_rate = 0.01\n",
    "num_epochs = 60\n",
    "\n",
    "num_nodes = features[0].shape[0]\n",
    "for ef in edge_features:\n",
    "    if ef.size(0) > 0:\n",
    "        edge_feat_dim = ef.shape[1]\n",
    "        break\n",
    "\n",
    "all_bins = list(range(window_size, len(features) - 1))\n",
    "train_bins, test_bins = generate_stratified_split(all_bins)\n",
    "\n",
    "model = MovementLinkPredictor(\n",
    "    in_channels=features[0].shape[1],   # 4 (node features)\n",
    "    out_channels=embedding_dim         # 64\n",
    "    #edge_feat_dim=edge_feat_dim         # 4 (hour, weekday, participant, speed)\n",
    ")\n",
    "\n",
    "\n",
    "optimizer = Adam(model.parameters(), lr=learning_rate)\n",
    "scheduler = ReduceLROnPlateau(optimizer, mode='min', factor=0.5, patience=5, verbose=True)\n"
   ]
  },
  {
   "cell_type": "code",
   "execution_count": 68,
   "metadata": {},
   "outputs": [],
   "source": [
    "# setting a random seed for reproducibility\n",
    "# (this will make sure that the results are the same every time the code is run even for random values)\n",
    "\n",
    "def set_seed(seed=42):\n",
    "    torch.manual_seed(seed)\n",
    "    np.random.seed(seed)\n",
    "    random.seed(seed)\n",
    "    if torch.cuda.is_available():\n",
    "        torch.cuda.manual_seed(seed)\n",
    "        torch.backends.cudnn.deterministic = True\n",
    "        torch.backends.cudnn.benchmark = False\n",
    "\n",
    "set_seed(42)"
   ]
  },
  {
   "cell_type": "code",
   "execution_count": 69,
   "metadata": {},
   "outputs": [
    {
     "name": "stdout",
     "output_type": "stream",
     "text": [
      "Epoch 1/60,\t\tTraining Loss: 0.6604,\t\tTime: 28.28s\n",
      "  ⤷ LR: 0.010000\n",
      "Epoch 2/60,\t\tTraining Loss: 0.6343,\t\tTime: 25.42s\n",
      "  ⤷ LR: 0.010000\n",
      "Epoch 3/60,\t\tTraining Loss: 0.6220,\t\tTime: 26.62s\n",
      "  ⤷ LR: 0.010000\n",
      "Epoch 4/60,\t\tTraining Loss: 0.6218,\t\tTime: 26.27s\n",
      "  ⤷ LR: 0.010000\n",
      "Epoch 5/60,\t\tTraining Loss: 0.6080,\t\tTime: 25.49s\n",
      "  ⤷ LR: 0.010000\n",
      "Epoch 6/60,\t\tTraining Loss: 0.6083,\t\tTime: 25.12s\n",
      "  ⤷ LR: 0.010000\n",
      "Epoch 7/60,\t\tTraining Loss: 0.6071,\t\tTime: 26.85s\n",
      "  ⤷ LR: 0.010000\n",
      "Epoch 8/60,\t\tTraining Loss: 0.5910,\t\tTime: 25.76s\n",
      "  ⤷ LR: 0.010000\n",
      "Epoch 9/60,\t\tTraining Loss: 0.6108,\t\tTime: 25.22s\n",
      "  ⤷ LR: 0.010000\n",
      "Epoch 10/60,\t\tTraining Loss: 0.6128,\t\tTime: 26.07s\n",
      "  ⤷ LR: 0.010000\n",
      "Epoch 11/60,\t\tTraining Loss: 0.6047,\t\tTime: 26.16s\n",
      "  ⤷ LR: 0.010000\n",
      "Epoch 12/60,\t\tTraining Loss: 0.6051,\t\tTime: 27.74s\n",
      "  ⤷ LR: 0.010000\n",
      "Epoch 13/60,\t\tTraining Loss: 0.6043,\t\tTime: 27.60s\n",
      "  ⤷ LR: 0.010000\n",
      "Epoch 14/60,\t\tTraining Loss: 0.6042,\t\tTime: 27.59s\n",
      "  ⤷ LR: 0.005000\n",
      "Epoch 15/60,\t\tTraining Loss: 0.5958,\t\tTime: 28.33s\n",
      "  ⤷ LR: 0.005000\n",
      "Epoch 16/60,\t\tTraining Loss: 0.6000,\t\tTime: 27.21s\n",
      "  ⤷ LR: 0.005000\n",
      "Epoch 17/60,\t\tTraining Loss: 0.5926,\t\tTime: 27.26s\n",
      "  ⤷ LR: 0.005000\n",
      "Epoch 18/60,\t\tTraining Loss: 0.6047,\t\tTime: 27.33s\n",
      "  ⤷ LR: 0.005000\n",
      "Epoch 19/60,\t\tTraining Loss: 0.5966,\t\tTime: 27.41s\n",
      "  ⤷ LR: 0.005000\n",
      "Epoch 20/60,\t\tTraining Loss: 0.5991,\t\tTime: 28.03s\n",
      "  ⤷ LR: 0.002500\n",
      "Epoch 21/60,\t\tTraining Loss: 0.5984,\t\tTime: 31.05s\n",
      "  ⤷ LR: 0.002500\n",
      "Epoch 22/60,\t\tTraining Loss: 0.5937,\t\tTime: 33.40s\n",
      "  ⤷ LR: 0.002500\n",
      "Epoch 23/60,\t\tTraining Loss: 0.5944,\t\tTime: 31.11s\n",
      "  ⤷ LR: 0.002500\n",
      "Epoch 24/60,\t\tTraining Loss: 0.5975,\t\tTime: 29.71s\n",
      "  ⤷ LR: 0.002500\n",
      "Epoch 25/60,\t\tTraining Loss: 0.5969,\t\tTime: 27.94s\n",
      "  ⤷ LR: 0.002500\n",
      "Epoch 26/60,\t\tTraining Loss: 0.5981,\t\tTime: 25.44s\n",
      "  ⤷ LR: 0.001250\n",
      "Epoch 27/60,\t\tTraining Loss: 0.5919,\t\tTime: 26.35s\n",
      "  ⤷ LR: 0.001250\n",
      "Epoch 28/60,\t\tTraining Loss: 0.5930,\t\tTime: 24.89s\n",
      "  ⤷ LR: 0.001250\n",
      "Epoch 29/60,\t\tTraining Loss: 0.5943,\t\tTime: 28.45s\n",
      "  ⤷ LR: 0.001250\n",
      "Epoch 30/60,\t\tTraining Loss: 0.5946,\t\tTime: 29.71s\n",
      "  ⤷ LR: 0.001250\n",
      "Epoch 31/60,\t\tTraining Loss: 0.5956,\t\tTime: 28.92s\n",
      "  ⤷ LR: 0.001250\n",
      "Epoch 32/60,\t\tTraining Loss: 0.5956,\t\tTime: 34.00s\n",
      "  ⤷ LR: 0.000625\n",
      "Epoch 33/60,\t\tTraining Loss: 0.5934,\t\tTime: 30.53s\n",
      "  ⤷ LR: 0.000625\n",
      "Epoch 34/60,\t\tTraining Loss: 0.5934,\t\tTime: 27.90s\n",
      "  ⤷ LR: 0.000625\n",
      "Epoch 35/60,\t\tTraining Loss: 0.6009,\t\tTime: 27.72s\n",
      "  ⤷ LR: 0.000625\n",
      "Epoch 36/60,\t\tTraining Loss: 0.5957,\t\tTime: 27.80s\n",
      "  ⤷ LR: 0.000625\n",
      "Epoch 37/60,\t\tTraining Loss: 0.5975,\t\tTime: 30.72s\n",
      "  ⤷ LR: 0.000625\n",
      "Epoch 38/60,\t\tTraining Loss: 0.5854,\t\tTime: 28.17s\n",
      "  ⤷ LR: 0.000625\n",
      "Epoch 39/60,\t\tTraining Loss: 0.5991,\t\tTime: 26.72s\n",
      "  ⤷ LR: 0.000625\n",
      "Epoch 40/60,\t\tTraining Loss: 0.5921,\t\tTime: 26.26s\n",
      "  ⤷ LR: 0.000625\n",
      "Epoch 41/60,\t\tTraining Loss: 0.5983,\t\tTime: 26.79s\n",
      "  ⤷ LR: 0.000625\n",
      "Epoch 42/60,\t\tTraining Loss: 0.6029,\t\tTime: 29.72s\n",
      "  ⤷ LR: 0.000625\n",
      "Epoch 43/60,\t\tTraining Loss: 0.5911,\t\tTime: 26.68s\n",
      "  ⤷ LR: 0.000625\n",
      "Epoch 44/60,\t\tTraining Loss: 0.5904,\t\tTime: 28.08s\n",
      "  ⤷ LR: 0.000313\n",
      "Epoch 45/60,\t\tTraining Loss: 0.5970,\t\tTime: 25.94s\n",
      "  ⤷ LR: 0.000313\n",
      "Epoch 46/60,\t\tTraining Loss: 0.5860,\t\tTime: 23.55s\n",
      "  ⤷ LR: 0.000313\n",
      "Epoch 47/60,\t\tTraining Loss: 0.5941,\t\tTime: 23.73s\n",
      "  ⤷ LR: 0.000313\n",
      "Epoch 48/60,\t\tTraining Loss: 0.5831,\t\tTime: 26.36s\n",
      "  ⤷ LR: 0.000313\n",
      "Epoch 49/60,\t\tTraining Loss: 0.5933,\t\tTime: 24.94s\n",
      "  ⤷ LR: 0.000313\n",
      "Epoch 50/60,\t\tTraining Loss: 0.5877,\t\tTime: 26.28s\n",
      "  ⤷ LR: 0.000313\n",
      "Epoch 51/60,\t\tTraining Loss: 0.6005,\t\tTime: 27.47s\n",
      "  ⤷ LR: 0.000313\n",
      "Epoch 52/60,\t\tTraining Loss: 0.5931,\t\tTime: 25.65s\n",
      "  ⤷ LR: 0.000313\n",
      "Epoch 53/60,\t\tTraining Loss: 0.5977,\t\tTime: 24.14s\n",
      "  ⤷ LR: 0.000313\n",
      "Epoch 54/60,\t\tTraining Loss: 0.5976,\t\tTime: 23.73s\n",
      "  ⤷ LR: 0.000156\n",
      "Epoch 55/60,\t\tTraining Loss: 0.5981,\t\tTime: 23.99s\n",
      "  ⤷ LR: 0.000156\n",
      "Epoch 56/60,\t\tTraining Loss: 0.6032,\t\tTime: 26.20s\n",
      "  ⤷ LR: 0.000156\n",
      "Epoch 57/60,\t\tTraining Loss: 0.5900,\t\tTime: 25.58s\n",
      "  ⤷ LR: 0.000156\n",
      "Epoch 58/60,\t\tTraining Loss: 0.5857,\t\tTime: 26.21s\n",
      "  ⤷ LR: 0.000156\n",
      "Epoch 59/60,\t\tTraining Loss: 0.5899,\t\tTime: 24.61s\n",
      "  ⤷ LR: 0.000156\n",
      "Epoch 60/60,\t\tTraining Loss: 0.5867,\t\tTime: 26.83s\n",
      "  ⤷ LR: 0.000078\n",
      "\n",
      "Total training time: 1629.08 seconds\n"
     ]
    }
   ],
   "source": [
    "import torch.nn.functional as F\n",
    "import time\n",
    "\n",
    "\n",
    "\n",
    "def timebin_to_hour_weekday(time_bin, interval_seconds, start_time_unix):\n",
    "    timestamp = pd.to_datetime(start_time_unix + (time_bin * interval_seconds), unit=\"s\")\n",
    "    return timestamp.hour, timestamp.weekday()\n",
    "\n",
    "\n",
    "def generate_edge_features(time_bin, num_edges):\n",
    "    # using time_bin to compute timestamp directly\n",
    "    hour, weekday = timebin_to_hour_weekday(time_bin, interval_seconds=interval, start_time_unix=start_time)\n",
    "\n",
    "    participant_number = -1  # or 0\n",
    "    speed_avg = positions_links_df[\"speed\"].mean()                         # or a fallback like 1.0\n",
    "\n",
    "    feat = torch.tensor([[hour, weekday, participant_number, speed_avg]], dtype=torch.float)\n",
    "    return feat.repeat(num_edges, 1)\n",
    "\n",
    "\n",
    "start_time = time.time()\n",
    "\n",
    "# --- Training Loop ---\n",
    "losses = []\n",
    "for epoch in range(num_epochs):\n",
    "    model.train()\n",
    "    loss_sum = 0\n",
    "    step_count = 0\n",
    "\n",
    "    epoch_start = time.time()\n",
    "\n",
    "    for t in train_bins:\n",
    "        x_seq = features[t - window_size:t]\n",
    "        ei_seq = edge_indices[t - window_size:t]\n",
    "        ew_seq = edge_weights[t - window_size:t]\n",
    "\n",
    "        if all(ei.size(1) == 0 for ei in ei_seq):\n",
    "            continue  # skip time steps where the entire input window has no edges\n",
    "\n",
    "        # for x, ei, ew in zip(x_seq, ei_seq, ew_seq):\n",
    "        #     print(\"x.shape:\", x.shape)\n",
    "        #     print(\"ei.shape:\", ei.shape)\n",
    "        #     print(\"ew.shape:\", ew.shape)\n",
    "            \n",
    "        z = model.forward_encoder(x_seq, ei_seq)\n",
    "\n",
    "        pos_edge_index = targets[t]\n",
    "        if pos_edge_index.size(1) == 0:\n",
    "            continue\n",
    "\n",
    "        # print(f\"\\t\\t\\t→ Time step: {t}, positive edges: {pos_edge_index.size(1)}\")\n",
    "\n",
    "        # edge_feat = generate_edge_features(t, pos_edge_index.size(1))\n",
    "        # edge_feat = edge_features[t][:pos_edge_index.size(1)]\n",
    "        \n",
    "        #distances = get_edge_distances(pos_edge_index, dist_matrix)\n",
    "        #edge_feat_with_dist = torch.cat([edge_feat, distances], dim=1)\n",
    "        \n",
    "        #pos_pred = model.forward_decoder(z, pos_edge_index, edge_feat)\n",
    "        #pos_pred = model.forward_decoder(z, pos_edge_index, edge_feat_with_dist)\n",
    "        pos_pred = model.forward_decoder(z, pos_edge_index)\n",
    "        pos_label = torch.ones(pos_pred.size(0))\n",
    "\n",
    "        neg_edge_index = sample_negative_edges(pos_edge_index, num_nodes, pos_pred.size(0))\n",
    "\n",
    "\n",
    "        n_pos = pos_pred.size(0)\n",
    "        neg_multiplier = 1\n",
    "\n",
    "        n_neg = n_pos * neg_multiplier\n",
    "        n_spatial = n_neg // 2\n",
    "        n_random = n_neg - n_spatial  # handles odd case\n",
    "\n",
    "        neg_spatial = sample_spatial_negatives(pos_edge_index, dist_matrix, 5000, n_spatial)\n",
    "        neg_random = sample_negative_edges(pos_edge_index, num_nodes, n_random)\n",
    "\n",
    "        neg_edge_index = torch.cat([neg_spatial, neg_random], dim=1)        \n",
    "        #edge_feat_neg = generate_edge_features(t, neg_edge_index.size(1))\n",
    "        #distances_neg = get_edge_distances(neg_edge_index, dist_matrix)\n",
    "        #edge_feat_neg_with_dist = torch.cat([edge_feat_neg, distances_neg], dim=1)  \n",
    "\n",
    "        #neg_pred = model.forward_decoder(z, neg_edge_index, edge_feat_neg)\n",
    "        #neg_pred = model.forward_decoder(z, neg_edge_index, edge_feat_neg_with_dist)\n",
    "        neg_pred = model.forward_decoder(z, neg_edge_index)\n",
    "        neg_label = torch.zeros(neg_pred.size(0))\n",
    "\n",
    "        all_preds = torch.cat([pos_pred, neg_pred])\n",
    "        all_labels = torch.cat([pos_label, neg_label])\n",
    "        \n",
    "        #pos_weight = torch.tensor([2.0], dtype=torch.float)  # for 2× negatives\n",
    "        #loss = F.binary_cross_entropy_with_logits(all_preds, all_labels, pos_weight=pos_weight)\n",
    "\n",
    "        \n",
    "        loss = F.binary_cross_entropy(all_preds, all_labels, reduction='mean')\n",
    "\n",
    "        #print(f\"  ⤷ pos_pred: {pos_pred.mean().item():.4f}, neg_pred: {neg_pred.mean().item():.4f}, loss: {loss.item():.4f}\")\n",
    "\n",
    "\n",
    "        optimizer.zero_grad()\n",
    "        loss.backward()\n",
    "        #torch.nn.utils.clip_grad_norm_(model.parameters(), max_norm=1.0)\n",
    "        optimizer.step()\n",
    "        loss_sum += loss.item()\n",
    "        step_count += 1\n",
    "    \n",
    "    avg_loss = loss_sum / step_count\n",
    "    losses.append(avg_loss)\n",
    "    print(f\"Epoch {epoch + 1}/{num_epochs},\\t\\tTraining Loss: {avg_loss:.4f},\\t\\tTime: {time.time() - epoch_start:.2f}s\")\n",
    "    scheduler.step(avg_loss)\n",
    "    for param_group in optimizer.param_groups:\n",
    "        print(f\"  ⤷ LR: {param_group['lr']:.6f}\")\n",
    "\n",
    "\n",
    "\n",
    "\n",
    "end_time = time.time()\n",
    "print(f\"\\nTotal training time: {(end_time - start_time):.2f} seconds\")\n",
    "\n"
   ]
  },
  {
   "cell_type": "code",
   "execution_count": null,
   "metadata": {},
   "outputs": [],
   "source": [
    "np.save(\"D:/Desktop/MSc Thesis/scripts/losses/loss_8.npy\", np.array(losses))"
   ]
  },
  {
   "cell_type": "code",
   "execution_count": 70,
   "metadata": {},
   "outputs": [
    {
     "data": {
      "image/png": "[encoded data removed]",
      "text/plain": [
       "<Figure size 640x480 with 1 Axes>"
      ]
     },
     "metadata": {},
     "output_type": "display_data"
    }
   ],
   "source": [
    "import matplotlib.pyplot as plt\n",
    "plt.plot(losses)\n",
    "plt.xlabel(\"Epoch\")\n",
    "plt.ylabel(\"Training Loss\")\n",
    "plt.title(\"Loss Curve\")\n",
    "plt.grid()\n",
    "plt.show()"
   ]
  },
  {
   "cell_type": "code",
   "execution_count": 71,
   "metadata": {},
   "outputs": [],
   "source": [
    "from sklearn.metrics import accuracy_score, precision_score, recall_score, roc_auc_score\n",
    "from collections import defaultdict\n",
    "\n",
    "\n",
    "def evaluate(model, features, edge_indices, targets, edge_features, test_bins, num_nodes):\n",
    "    hour_metrics = defaultdict(list)\n",
    "    day_metrics = defaultdict(list)\n",
    "    model.eval()\n",
    "    y_true = []\n",
    "    y_pred = []\n",
    "\n",
    "    with torch.no_grad():\n",
    "        for t in test_bins:\n",
    "            hour, weekday = timebin_to_hour_weekday(t, interval, start_time)\n",
    "\n",
    "            x_seq = features[t - window_size:t]\n",
    "            ei_seq = edge_indices[t - window_size:t]\n",
    "\n",
    "            if all(ei.size(1) == 0 for ei in ei_seq):\n",
    "                continue\n",
    "\n",
    "            z = model.forward_encoder(x_seq, ei_seq)\n",
    "            pos_edge_index = targets[t]\n",
    "            if pos_edge_index.size(1) == 0:\n",
    "                continue\n",
    "\n",
    "            #edge_feat = edge_features[t][:pos_edge_index.size(1)]\n",
    "            #distances = get_edge_distances(pos_edge_index, dist_matrix)\n",
    "            #edge_feat_with_dist = torch.cat([edge_feat, distances], dim=1)\n",
    "\n",
    "            pos_pred = model.forward_decoder(z, pos_edge_index)\n",
    "\n",
    "            #pos_pred = model.forward_decoder(z, pos_edge_index, edge_feat)\n",
    "            #pos_pred = model.forward_decoder(z, pos_edge_index, edge_feat_with_dist)\n",
    "            #pos_logits = model.forward_decoder(z, pos_edge_index)\n",
    "            #pos_pred = torch.sigmoid(pos_logits)  # convert to probabilities\n",
    "\n",
    "\n",
    "            y_true += [1] * pos_pred.size(0)\n",
    "            y_pred += pos_pred.tolist()\n",
    "\n",
    "            hour_metrics[hour].extend(zip([1] * pos_pred.size(0), pos_pred.tolist()))\n",
    "            day_metrics[weekday].extend(zip([1] * pos_pred.size(0), pos_pred.tolist()))\n",
    "\n",
    "            neg_edge_index = sample_negative_edges(pos_edge_index, num_nodes, pos_pred.size(0))\n",
    "            #edge_feat_neg = generate_edge_features(t, neg_edge_index.size(1))\n",
    "            #distances_neg = get_edge_distances(neg_edge_index, dist_matrix)\n",
    "            #edge_feat_neg_with_dist = torch.cat([edge_feat_neg, distances_neg], dim=1)\n",
    "\n",
    "\n",
    "            #neg_pred = model.forward_decoder(z, neg_edge_index, edge_feat_neg)\n",
    "            #neg_pred = model.forward_decoder(z, neg_edge_index, edge_feat_neg_with_dist)\n",
    "            #neg_pred = model.forward_decoder(z, neg_edge_index)\n",
    "\n",
    "            neg_logits = model.forward_decoder(z, neg_edge_index)\n",
    "            neg_pred = torch.sigmoid(neg_logits)\n",
    "\n",
    "            y_true += [0] * neg_pred.size(0)\n",
    "            y_pred += neg_pred.tolist()\n",
    "\n",
    "            hour_metrics[hour].extend(zip([0] * neg_pred.size(0), neg_pred.tolist()))\n",
    "            day_metrics[weekday].extend(zip([0] * neg_pred.size(0), neg_pred.tolist()))\n",
    "\n",
    "    y_pred_binary = [1 if p > 0.5 else 0 for p in y_pred]\n",
    "    print(\"\\nEvaluation on Test Bins:\")\n",
    "    print(\"Accuracy:\", accuracy_score(y_true, y_pred_binary))\n",
    "    print(\"Precision:\", precision_score(y_true, y_pred_binary, zero_division=0))\n",
    "    print(\"Recall:\", recall_score(y_true, y_pred_binary, zero_division=0))\n",
    "    print(\"AUC:\", roc_auc_score(y_true, y_pred))"
   ]
  },
  {
   "cell_type": "code",
   "execution_count": 72,
   "metadata": {},
   "outputs": [
    {
     "name": "stdout",
     "output_type": "stream",
     "text": [
      "\n",
      "Evaluation on Test Bins:\n",
      "Accuracy: 0.4610846503572202\n",
      "Precision: 0.47975446302866476\n",
      "Recall: 0.9221693007144404\n",
      "AUC: 0.4884121509558798\n",
      "\n",
      "Accuracy per hour of day:\n"
     ]
    },
    {
     "ename": "NameError",
     "evalue": "name 'hour_metrics' is not defined",
     "output_type": "error",
     "traceback": [
      "\u001b[31m---------------------------------------------------------------------------\u001b[39m",
      "\u001b[31mNameError\u001b[39m                                 Traceback (most recent call last)",
      "\u001b[36mCell\u001b[39m\u001b[36m \u001b[39m\u001b[32mIn[72]\u001b[39m\u001b[32m, line 4\u001b[39m\n\u001b[32m      1\u001b[39m evaluate(model, features, edge_indices, targets, edge_features, test_bins, num_nodes)\n\u001b[32m      3\u001b[39m \u001b[38;5;28mprint\u001b[39m(\u001b[33m\"\u001b[39m\u001b[38;5;130;01m\\n\u001b[39;00m\u001b[33mAccuracy per hour of day:\u001b[39m\u001b[33m\"\u001b[39m)\n\u001b[32m----> \u001b[39m\u001b[32m4\u001b[39m \u001b[38;5;28;01mfor\u001b[39;00m h \u001b[38;5;129;01min\u001b[39;00m \u001b[38;5;28msorted\u001b[39m(\u001b[43mhour_metrics\u001b[49m):\n\u001b[32m      5\u001b[39m     labels, preds = \u001b[38;5;28mzip\u001b[39m(*hour_metrics[h])\n\u001b[32m      6\u001b[39m     binary_preds = [\u001b[32m1\u001b[39m \u001b[38;5;28;01mif\u001b[39;00m p > \u001b[32m0.5\u001b[39m \u001b[38;5;28;01melse\u001b[39;00m \u001b[32m0\u001b[39m \u001b[38;5;28;01mfor\u001b[39;00m p \u001b[38;5;129;01min\u001b[39;00m preds]\n",
      "\u001b[31mNameError\u001b[39m: name 'hour_metrics' is not defined"
     ]
    }
   ],
   "source": [
    "evaluate(model, features, edge_indices, targets, edge_features, test_bins, num_nodes)\n",
    "\n",
    "print(\"\\nAccuracy per hour of day:\")\n",
    "for h in sorted(hour_metrics):\n",
    "    labels, preds = zip(*hour_metrics[h])\n",
    "    binary_preds = [1 if p > 0.5 else 0 for p in preds]\n",
    "    acc = accuracy_score(labels, binary_preds)\n",
    "    print(f\"  Hour {h:02d}: Accuracy = {acc:.3f}\")\n",
    "\n",
    "print(\"\\nAccuracy per day of week:\")\n",
    "for d in sorted(day_metrics):\n",
    "    labels, preds = zip(*day_metrics[d])\n",
    "    binary_preds = [1 if p > 0.5 else 0 for p in preds]\n",
    "    acc = accuracy_score(labels, binary_preds)\n",
    "    print(f\"  Day {d}: Accuracy = {acc:.3f}\")"
   ]
  },
  {
   "cell_type": "markdown",
   "metadata": {},
   "source": [
    "# __OLD__"
   ]
  },
  {
   "cell_type": "code",
   "execution_count": 28,
   "metadata": {},
   "outputs": [],
   "source": [
    "edge_indices = []\n",
    "edge_weights = []\n",
    "features = []\n",
    "targets = []\n",
    "\n",
    "num_nodes = len(nodes_df)\n",
    "\n",
    "# grouped by time step (1 hour)\n",
    "grouped = positions_links_df.groupby('time_interval')\n",
    "\n",
    "for interval, group in grouped:\n",
    "    source_nodes = torch.tensor(group['prev_node_id'].values, dtype=torch.long)\n",
    "    target_nodes = torch.tensor(group['node_id'].values, dtype=torch.long)\n",
    "    speed = torch.tensor(group['speed'].values, dtype=torch.float)\n",
    "    edge_index = torch.stack([source_nodes, target_nodes], dim=0)\n",
    "\n",
    "    edge_indices.append(edge_index)\n",
    "\n",
    "    edge_weights.append(torch.ones(edge_index.size(1)))\n",
    "\n",
    "# for link prediction, future edges are the targets\n",
    "for t in range(len(edge_indices) - 1):\n",
    "    targets.append(edge_indices[t + 1])"
   ]
  },
  {
   "cell_type": "code",
   "execution_count": 33,
   "metadata": {},
   "outputs": [
    {
     "name": "stdout",
     "output_type": "stream",
     "text": [
      "1038\n",
      "0\n",
      "1038\n"
     ]
    }
   ],
   "source": [
    "print(len(edge_indices[:-1]))\n",
    "print(len(features[:-1]))\n",
    "print(len(targets))\n"
   ]
  },
  {
   "cell_type": "code",
   "execution_count": 34,
   "metadata": {},
   "outputs": [
    {
     "ename": "TypeError",
     "evalue": "DynamicGraphTemporalSignal.__init__() missing 1 required positional argument: 'features'",
     "output_type": "error",
     "traceback": [
      "\u001b[31m---------------------------------------------------------------------------\u001b[39m",
      "\u001b[31mTypeError\u001b[39m                                 Traceback (most recent call last)",
      "\u001b[36mCell\u001b[39m\u001b[36m \u001b[39m\u001b[32mIn[34]\u001b[39m\u001b[32m, line 1\u001b[39m\n\u001b[32m----> \u001b[39m\u001b[32m1\u001b[39m dataset = \u001b[43mDynamicGraphTemporalSignal\u001b[49m\u001b[43m(\u001b[49m\n\u001b[32m      2\u001b[39m \u001b[43m    \u001b[49m\u001b[43medge_indices\u001b[49m\u001b[43m=\u001b[49m\u001b[43medge_indices\u001b[49m\u001b[43m[\u001b[49m\u001b[43m:\u001b[49m\u001b[43m-\u001b[49m\u001b[32;43m1\u001b[39;49m\u001b[43m]\u001b[49m\u001b[43m,\u001b[49m\n\u001b[32m      3\u001b[39m \u001b[43m    \u001b[49m\u001b[43medge_weights\u001b[49m\u001b[43m=\u001b[49m\u001b[43medge_weights\u001b[49m\u001b[43m[\u001b[49m\u001b[43m:\u001b[49m\u001b[43m-\u001b[49m\u001b[32;43m1\u001b[39;49m\u001b[43m]\u001b[49m\u001b[43m,\u001b[49m\n\u001b[32m      4\u001b[39m \u001b[43m    \u001b[49m\u001b[43mtargets\u001b[49m\u001b[43m=\u001b[49m\u001b[43mtargets\u001b[49m\u001b[43m,\u001b[49m\n\u001b[32m      5\u001b[39m \u001b[43m)\u001b[49m\n",
      "\u001b[31mTypeError\u001b[39m: DynamicGraphTemporalSignal.__init__() missing 1 required positional argument: 'features'"
     ]
    }
   ],
   "source": [
    "dataset = DynamicGraphTemporalSignal(\n",
    "    edge_indices=edge_indices[:-1],\n",
    "    edge_weights=edge_weights[:-1],\n",
    "    targets=targets,\n",
    ")"
   ]
  },
  {
   "cell_type": "code",
   "execution_count": null,
   "metadata": {},
   "outputs": [],
   "source": [
    "# node structure is static\n",
    "# node features are static (for now - later dynamic with weather features)\n",
    "\n",
    "# edge structure is dynamic (new edges)"
   ]
  },
  {
   "cell_type": "code",
   "execution_count": null,
   "metadata": {},
   "outputs": [],
   "source": [
    "edge_indices = []\n",
    "edge_attrs = []\n",
    "\n",
    "for t in time_bins:\n",
    "    snapshot = positions_links_df[positions_links_df[\"time_bin\"] == t]\n",
    "    \n",
    "    # Convert edges to COO format\n",
    "    edge_index = np.array([snapshot[\"prev_node_id\"].values, snapshot[\"node_id\"].values])\n",
    "    \n",
    "    # Edge attributes (participant ID, speed)\n",
    "    edge_attr = np.array(snapshot[['id_participant', 'speed', 'merged_datetime']].values, dtype=np.float32)\n",
    "\n",
    "    edge_indices.append(edge_index)\n",
    "    edge_attrs.append(edge_attr)\n"
   ]
  },
  {
   "cell_type": "code",
   "execution_count": null,
   "metadata": {},
   "outputs": [],
   "source": [
    "node_features = torch.tensor(nodes_df.drop(columns=['node_id']).values, dtype=torch.float)\n",
    "#node_positions = torch.tensor(nodes_df[['node_x', 'node_y']].values, dtype=torch.float)"
   ]
  },
  {
   "cell_type": "code",
   "execution_count": null,
   "metadata": {},
   "outputs": [
    {
     "data": {
      "text/plain": [
       "True"
      ]
     },
     "execution_count": 6,
     "metadata": {},
     "output_type": "execute_result"
    }
   ],
   "source": [
    "dataset = DynamicGraphStaticSignal(\n",
    "    edge_indices=edge_indices,\n",
    "    edge_weights=edge_attrs,\n",
    "    features=node_features\n",
    ")"
   ]
  },
  {
   "cell_type": "code",
   "execution_count": null,
   "metadata": {},
   "outputs": [],
   "source": []
  },
  {
   "cell_type": "code",
   "execution_count": 52,
   "metadata": {},
   "outputs": [
    {
     "ename": "ModuleNotFoundError",
     "evalue": "No module named 'torch_geometric_temporal'",
     "output_type": "error",
     "traceback": [
      "\u001b[1;31m---------------------------------------------------------------------------\u001b[0m",
      "\u001b[1;31mModuleNotFoundError\u001b[0m                       Traceback (most recent call last)",
      "Cell \u001b[1;32mIn[52], line 1\u001b[0m\n\u001b[1;32m----> 1\u001b[0m \u001b[38;5;28;01mimport\u001b[39;00m \u001b[38;5;21;01mtorch_geometric_temporal\u001b[39;00m\n",
      "\u001b[1;31mModuleNotFoundError\u001b[0m: No module named 'torch_geometric_temporal'"
     ]
    }
   ],
   "source": [
    "import torch_geometric_temporal"
   ]
  },
  {
   "cell_type": "code",
   "execution_count": 3,
   "metadata": {},
   "outputs": [],
   "source": [
    "# edge connectivity in COO format\n",
    "edge_index = torch.tensor(\n",
    "    np.vstack([\n",
    "        positions_links_df[\"prev_node_id\"].values,\n",
    "        positions_links_df[\"node_id\"].values\n",
    "    ]),\n",
    "    dtype=torch.long\n",
    ")\n",
    "#edge attributes\n",
    "edge_attr = torch.tensor(\n",
    "    np.vstack([\n",
    "        positions_links_df['id_participant'].values,\n",
    "        positions_links_df['speed'].values\n",
    "    ]).T,\n",
    "    dtype=torch.float\n",
    ")"
   ]
  },
  {
   "cell_type": "code",
   "execution_count": null,
   "metadata": {},
   "outputs": [],
   "source": [
    "data = Data(x=node_features, edge_index=edge_index, edge_attr=edge_attr, pos=node_positions)\n",
    "data.validate(raise_on_error=True)"
   ]
  },
  {
   "cell_type": "code",
   "execution_count": null,
   "metadata": {},
   "outputs": [],
   "source": []
  },
  {
   "cell_type": "code",
   "execution_count": null,
   "metadata": {},
   "outputs": [],
   "source": []
  },
  {
   "cell_type": "code",
   "execution_count": 6,
   "metadata": {},
   "outputs": [],
   "source": [
    "#initializing the target as an array filled with zeors\n",
    "# three dimensional with shape (n of edges, n of nodes, n of node features)\n",
    "target = np.zeros((len(positions_links_df), len(nodes_df), node_features.shape[1]))\n",
    "\n",
    "for i, row in positions_links_df.iterrows():\n",
    "    node_idx = int(row[\"node_id\"])\n",
    "    target[i, node_idx, :] = node_features[node_idx].numpy()\n",
    "\n",
    "target = torch.tensor(target, dtype=torch.float)"
   ]
  },
  {
   "cell_type": "code",
   "execution_count": 11,
   "metadata": {},
   "outputs": [],
   "source": [
    "timestamps = positions_links_df[\"timestamp\"].unique()  # Use actual timestamps as recorded\n",
    "num_timesteps = len(timestamps)\n",
    "num_nodes = len(nodes_df)\n",
    "num_features = node_features.shape[1]\n",
    "\n",
    "target = np.zeros((num_timesteps, num_nodes, num_features))\n",
    "\n",
    "# Populate the target tensor with node features at each timestamp\n",
    "for i, timestamp in enumerate(timestamps):\n",
    "    rows_at_time = positions_links_df[positions_links_df[\"timestamp\"] == timestamp]\n",
    "    for _, row in rows_at_time.iterrows():\n",
    "        node_idx = row[\"node_id\"].astype(int)\n",
    "        target[i, node_idx, :] = node_features[node_idx].numpy()\n",
    "\n",
    "target = torch.tensor(target, dtype=torch.float)"
   ]
  },
  {
   "cell_type": "code",
   "execution_count": 32,
   "metadata": {},
   "outputs": [
    {
     "name": "stdout",
     "output_type": "stream",
     "text": [
      "Edge index shape: torch.Size([2, 13489])\n",
      "Unique nodes in edge_index: 3823\n"
     ]
    }
   ],
   "source": [
    "print(\"Edge index shape:\", edge_index.shape)\n",
    "print(\"Unique nodes in edge_index:\", torch.unique(edge_index).shape[0])"
   ]
  },
  {
   "cell_type": "code",
   "execution_count": 12,
   "metadata": {},
   "outputs": [],
   "source": [
    "test_dataset_st = SpatioTemporalDataset(\n",
    "    target = target,  # includes time, nodes, and features\n",
    "    index=positions_links_df[\"merged_datetime\"],\n",
    "    connectivity=(edge_index, torch.ones(edge_index.shape[1])),  # Graph structure\n",
    "    window=12,\n",
    "    horizon=1\n",
    ")"
   ]
  },
  {
   "cell_type": "code",
   "execution_count": 13,
   "metadata": {},
   "outputs": [
    {
     "name": "stdout",
     "output_type": "stream",
     "text": [
      "SpatioTemporalDataset(n_samples=13305, n_nodes=13489, n_channels=5)\n"
     ]
    }
   ],
   "source": [
    "print (test_dataset_st)"
   ]
  },
  {
   "cell_type": "code",
   "execution_count": null,
   "metadata": {},
   "outputs": [],
   "source": [
    "# number of steps to predict\n",
    "k = 5\n",
    "\n",
    "target_columns = [column for column in positions_links_df.columns if column.startswith]"
   ]
  },
  {
   "cell_type": "code",
   "execution_count": null,
   "metadata": {},
   "outputs": [],
   "source": []
  },
  {
   "cell_type": "code",
   "execution_count": null,
   "metadata": {},
   "outputs": [],
   "source": []
  },
  {
   "cell_type": "code",
   "execution_count": 10,
   "metadata": {},
   "outputs": [
    {
     "ename": "NameError",
     "evalue": "name 'node_features' is not defined",
     "output_type": "error",
     "traceback": [
      "\u001b[1;31m---------------------------------------------------------------------------\u001b[0m",
      "\u001b[1;31mNameError\u001b[0m                                 Traceback (most recent call last)",
      "Cell \u001b[1;32mIn[10], line 18\u001b[0m\n\u001b[0;32m      8\u001b[0m sparse_edge_index, sparse_edge_attr \u001b[38;5;241m=\u001b[39m dense_to_sparse(adj_matrix)\n\u001b[0;32m     10\u001b[0m \u001b[38;5;66;03m# ✅ Create dataset with correct `connectivity`\u001b[39;00m\n\u001b[0;32m     11\u001b[0m dataset_st \u001b[38;5;241m=\u001b[39m SpatioTemporalDataset(\n\u001b[0;32m     12\u001b[0m     target\u001b[38;5;241m=\u001b[39mpositions_links_df[\u001b[38;5;124m\"\u001b[39m\u001b[38;5;124mnode_id\u001b[39m\u001b[38;5;124m\"\u001b[39m]\u001b[38;5;241m.\u001b[39mvalues,\n\u001b[0;32m     13\u001b[0m     index\u001b[38;5;241m=\u001b[39mpositions_links_df[\u001b[38;5;124m\"\u001b[39m\u001b[38;5;124mmerged_datetime\u001b[39m\u001b[38;5;124m\"\u001b[39m],\n\u001b[0;32m     14\u001b[0m     connectivity\u001b[38;5;241m=\u001b[39m(sparse_edge_index, sparse_edge_attr),  \u001b[38;5;66;03m# ✅ Graph structure with edge attributes\u001b[39;00m\n\u001b[0;32m     15\u001b[0m     covariates\u001b[38;5;241m=\u001b[39m{  \u001b[38;5;66;03m# ✅ Include node and edge attributes here\u001b[39;00m\n\u001b[0;32m     16\u001b[0m         \u001b[38;5;124m\"\u001b[39m\u001b[38;5;124mparticipant_id\u001b[39m\u001b[38;5;124m\"\u001b[39m: positions_links_df[\u001b[38;5;124m\"\u001b[39m\u001b[38;5;124mid_participant\u001b[39m\u001b[38;5;124m\"\u001b[39m]\u001b[38;5;241m.\u001b[39mvalues,\n\u001b[0;32m     17\u001b[0m         \u001b[38;5;124m\"\u001b[39m\u001b[38;5;124mspeed\u001b[39m\u001b[38;5;124m\"\u001b[39m: positions_links_df[\u001b[38;5;124m\"\u001b[39m\u001b[38;5;124mspeed\u001b[39m\u001b[38;5;124m\"\u001b[39m]\u001b[38;5;241m.\u001b[39mvalues,\n\u001b[1;32m---> 18\u001b[0m         \u001b[38;5;124m\"\u001b[39m\u001b[38;5;124mnode_features\u001b[39m\u001b[38;5;124m\"\u001b[39m: \u001b[43mnode_features\u001b[49m\u001b[38;5;241m.\u001b[39mnumpy(),  \u001b[38;5;66;03m# ✅ Add node features here\u001b[39;00m\n\u001b[0;32m     19\u001b[0m     },\n\u001b[0;32m     20\u001b[0m     window\u001b[38;5;241m=\u001b[39m\u001b[38;5;241m12\u001b[39m,\n\u001b[0;32m     21\u001b[0m     horizon\u001b[38;5;241m=\u001b[39m\u001b[38;5;241m1\u001b[39m\n\u001b[0;32m     22\u001b[0m )\n",
      "\u001b[1;31mNameError\u001b[0m: name 'node_features' is not defined"
     ]
    }
   ],
   "source": [
    "from torch_geometric.utils import dense_to_sparse\n",
    "\n",
    "# Convert `edge_index` and `edge_attr` into a valid adjacency matrix\n",
    "adj_matrix = torch.zeros((len(nodes_df), len(nodes_df)))\n",
    "adj_matrix[edge_index[0], edge_index[1]] = edge_attr[:, 0]  # Assuming first edge attribute is weight\n",
    "\n",
    "# Convert to sparse format\n",
    "sparse_edge_index, sparse_edge_attr = dense_to_sparse(adj_matrix)\n",
    "\n",
    "# ✅ Create dataset with correct `connectivity`\n",
    "dataset_st = SpatioTemporalDataset(\n",
    "    target=positions_links_df[\"node_id\"].values,\n",
    "    index=positions_links_df[\"merged_datetime\"],\n",
    "    connectivity=(sparse_edge_index, sparse_edge_attr),  # ✅ Graph structure with edge attributes\n",
    "    covariates={  # ✅ Include node and edge attributes here\n",
    "        \"participant_id\": positions_links_df[\"id_participant\"].values,\n",
    "        \"speed\": positions_links_df[\"speed\"].values,\n",
    "        \"node_features\": node_features.numpy(),  # ✅ Add node features here\n",
    "    },\n",
    "    window=12,\n",
    "    horizon=1\n",
    ")"
   ]
  },
  {
   "cell_type": "code",
   "execution_count": null,
   "metadata": {},
   "outputs": [],
   "source": [
    "node_features = torch.tensor(nodes_df[['node_x', 'node_y']].values, dtype=torch.long)\n",
    "edge_index = torch.tensor([positions_links_df['prev_node_id'].values, positions_links_df['node_id'].values], dtype=torch.long)\n",
    "edge_attr = torch.tensor(\n",
    "    np.vstack([\n",
    "        positions_links_df['id_participant'].values,\n",
    "        positions_links_df['timestamp'].values,\n",
    "        positions_links_df['speed'].values\n",
    "    ]).T,\n",
    "    dtype=torch.float\n",
    ")\n"
   ]
  },
  {
   "cell_type": "code",
   "execution_count": null,
   "metadata": {},
   "outputs": [],
   "source": [
    "DatetimeDataset.similarity_options.add(None)\n",
    "\n",
    "target = positions_links_df[['node_id']].astype(int)\n",
    "target.index = pd.MultiIndex.from_frame(positions_links_df[['merged_datetime', 'node_id']]) \n",
    "\n",
    "dataset_ts = DatetimeDataset(\n",
    "    target=positions_links_df[['node_id']],  \n",
    "    covariates={},                                  # i can put the node weather values and the sinusoidal time encoding here\n",
    "    freq=None,\n",
    "    sort_index=True,\n",
    "    force_synchronization=True,                     # might need to look into this\n",
    "    similarity_score=None\n",
    ")\n"
   ]
  },
  {
   "cell_type": "code",
   "execution_count": null,
   "metadata": {},
   "outputs": [],
   "source": [
    "print(dataset_ts)\n",
    "print(\"Number of nodes in dataset:\", dataset_ts.n_nodes)\n",
    "\n",
    "print(\"\\nTarget Preview:\")\n",
    "print(dataset_ts.target.head())\n",
    "\n",
    "print(\"\\nCovariates Keys:\")\n",
    "print(dataset_ts.covariates.keys())\n",
    "\n",
    "print(\"\\nFirst Few Time Steps:\")\n",
    "print(dataset_ts.index[:5])"
   ]
  },
  {
   "cell_type": "code",
   "execution_count": null,
   "metadata": {},
   "outputs": [],
   "source": [
    "target = positions_links_df[['node_id']]\n",
    "\n",
    "print(target.index[:5])  # Should show timestamps\n",
    "print(target.columns)  # Should show ['node_id']\n",
    "print(target.shape)  # Should match expected (num_time_steps, num_features)"
   ]
  },
  {
   "cell_type": "code",
   "execution_count": null,
   "metadata": {},
   "outputs": [],
   "source": [
    "print(dataset_ts.target.shape)\n",
    "print(\"Unique nodes in dataset:\", positions_links_df[\"node_id\"].nunique())\n",
    "\n",
    "\n"
   ]
  }
 ],
 "metadata": {
  "kernelspec": {
   "display_name": "Python (.venvth)",
   "language": "python",
   "name": "venvth"
  },
  "language_info": {
   "codemirror_mode": {
    "name": "ipython",
    "version": 3
   },
   "file_extension": ".py",
   "mimetype": "text/x-python",
   "name": "python",
   "nbconvert_exporter": "python",
   "pygments_lexer": "ipython3",
   "version": "3.11.6"
  }
 },
 "nbformat": 4,
 "nbformat_minor": 2
}
