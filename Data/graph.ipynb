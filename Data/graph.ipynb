{
 "cells": [
  {
   "cell_type": "code",
   "execution_count": null,
   "metadata": {},
   "outputs": [],
   "source": [
    "import pandas as pd\n",
    "import numpy as np\n",
    "import torch\n",
    "import tsl\n",
    "\n",
    "from torch_geometric.data import Data"
   ]
  },
  {
   "cell_type": "code",
   "execution_count": null,
   "metadata": {},
   "outputs": [],
   "source": [
    "#importing the node and position link csvs\n",
    "\n",
    "base_dir = 'D:/Desktop/MSc Thesis - Copy/'\n",
    "nodes = pd.read_csv(os.path.join(base_dir, 'Data/shapefiles/_network_parts_1/nodes.csv'), header = 0)\n",
    "links_positions = pd.read_csv(os.path.join(base_dir, 'Data/shapefiles/_network_parts_1/positions_links.csv'), header = 0)"
   ]
  }
 ],
 "metadata": {
  "kernelspec": {
   "display_name": ".venvth",
   "language": "python",
   "name": "python3"
  },
  "language_info": {
   "codemirror_mode": {
    "name": "ipython",
    "version": 3
   },
   "file_extension": ".py",
   "mimetype": "text/x-python",
   "name": "python",
   "nbconvert_exporter": "python",
   "pygments_lexer": "ipython3",
   "version": "3.13.0"
  }
 },
 "nbformat": 4,
 "nbformat_minor": 2
}
