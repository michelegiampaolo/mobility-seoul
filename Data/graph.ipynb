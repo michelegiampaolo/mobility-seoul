{
 "cells": [
  {
   "cell_type": "code",
   "execution_count": 3,
   "metadata": {},
   "outputs": [],
   "source": [
    "import os\n",
    "import pandas as pd\n",
    "import numpy as np\n",
    "import torch\n",
    "import tsl\n",
    "\n",
    "from torch_geometric.data import Data\n",
    "from tsl.data import SpatioTemporalDataset\n",
    "from tsl.datasets import DatetimeDataset"
   ]
  },
  {
   "cell_type": "code",
   "execution_count": 4,
   "metadata": {},
   "outputs": [],
   "source": [
    "# additional things to possibly implement\n",
    "#       - sinusoidal time encoding for both daily and weekly patterns\n",
    "#       - one hot encoding for day of week\n",
    "#       - links for distance between nodes or distance attributes in movement links (but might be already captured by node coordinates)\n",
    "\n",
    "# things to still implement\n",
    "#       - morphological node attributes\n",
    "#       - weather node attributes\n",
    "#       - better grouping of positions into nodes\n"
   ]
  },
  {
   "cell_type": "code",
   "execution_count": 26,
   "metadata": {},
   "outputs": [],
   "source": [
    "#importing the node and position link csvs\n",
    "base_dir = 'D:/Desktop/MSc Thesis - Copy/'\n",
    "\n",
    "nodes_df = pd.read_csv(os.path.join(base_dir, 'shapefiles/_network_parts_1/nodes.csv'), header = 0)\n",
    "positions_links_df = pd.read_csv(os.path.join(base_dir, 'shapefiles/_network_parts_1/positions_links.csv'), header = 0)\n",
    "\n",
    "\n"
   ]
  },
  {
   "cell_type": "code",
   "execution_count": 27,
   "metadata": {},
   "outputs": [],
   "source": [
    "nodes_df.drop(columns=['geometry'], inplace=True)\n",
    "for col in nodes_df.select_dtypes(include=['bool']).columns:\n",
    "    nodes_df[col] = nodes_df[col].astype(int)\n",
    "\n",
    "#converting time stamps\n",
    "positions_links_df[\"merged_datetime\"] = pd.to_datetime(positions_links_df['merged_datetime'], format='ISO8601').astype(int) // 10**9    # converting to Unix timestamp\n",
    "positions_links_df[\"timestamp\"] = positions_links_df[\"merged_datetime\"].astype(float)                                                   # copying the timestamp to a new column\n",
    "#positions_links_df.set_index('merged_datetime', inplace=True)                                                                           # setting time as index\n",
    "\n",
    "\n",
    "positions_links_df['id_participant'].astype(int)\n",
    "positions_links_df[\"node_id\"] = positions_links_df[\"node_id\"].astype(int)\n",
    "positions_links_df[\"prev_node_id\"] = positions_links_df[\"prev_node_id\"].astype(int)"
   ]
  },
  {
   "cell_type": "code",
   "execution_count": 28,
   "metadata": {},
   "outputs": [],
   "source": [
    "edge_index = torch.tensor(\n",
    "    np.vstack([\n",
    "        positions_links_df[\"prev_node_id\"].values,\n",
    "        positions_links_df[\"node_id\"].values\n",
    "    ]),\n",
    "    dtype=torch.long\n",
    ")\n",
    "\n",
    "edge_attr = torch.tensor(\n",
    "    np.vstack([\n",
    "        positions_links_df['id_participant'].values,\n",
    "        positions_links_df['speed'].values\n",
    "    ]).T,\n",
    "    dtype=torch.float\n",
    ")"
   ]
  },
  {
   "cell_type": "code",
   "execution_count": 29,
   "metadata": {},
   "outputs": [],
   "source": [
    "\n",
    "node_features = torch.tensor(nodes_df.drop(columns=['node_id']).values, dtype=torch.float)\n"
   ]
  },
  {
   "cell_type": "code",
   "execution_count": 30,
   "metadata": {},
   "outputs": [],
   "source": [
    "#initializing the target as an three dimensional array \n",
    "target = target = np.zeros((len(positions_links_df), len(nodes_df), node_features.shape[1]))\n",
    "\n",
    "for i, row in positions_links_df.iterrows():\n",
    "    node_idx = int(row[\"node_id\"])\n",
    "    target[i, node_idx, :] = node_features[node_idx].numpy()\n",
    "\n",
    "target = torch.tensor(target, dtype=torch.float)\n",
    "\n"
   ]
  },
  {
   "cell_type": "code",
   "execution_count": 32,
   "metadata": {},
   "outputs": [
    {
     "name": "stdout",
     "output_type": "stream",
     "text": [
      "Edge index shape: torch.Size([2, 13489])\n",
      "Unique nodes in edge_index: 3823\n"
     ]
    }
   ],
   "source": [
    "print(\"Edge index shape:\", edge_index.shape)\n",
    "print(\"Unique nodes in edge_index:\", torch.unique(edge_index).shape[0])"
   ]
  },
  {
   "cell_type": "code",
   "execution_count": 34,
   "metadata": {},
   "outputs": [],
   "source": [
    "test_dataset_st = SpatioTemporalDataset(\n",
    "    target = target[:, :torch.unique(edge_index).shape[0], :],  # ✅ Now includes time, nodes, and features\n",
    "    index=positions_links_df[\"merged_datetime\"],\n",
    "    connectivity=(edge_index, torch.ones(edge_index.shape[1])),  # ✅ Graph structure\n",
    "    window=12,\n",
    "    horizon=1\n",
    ")"
   ]
  },
  {
   "cell_type": "code",
   "execution_count": 35,
   "metadata": {},
   "outputs": [
    {
     "name": "stdout",
     "output_type": "stream",
     "text": [
      "SpatioTemporalDataset(n_samples=13477, n_nodes=3823, n_channels=5)\n"
     ]
    }
   ],
   "source": [
    "print (test_dataset_st)"
   ]
  },
  {
   "cell_type": "code",
   "execution_count": null,
   "metadata": {},
   "outputs": [],
   "source": [
    "# number of steps to predict\n",
    "k = 5\n",
    "\n",
    "target_columns = [column for column in positions_links_df.columns if column.startswith]"
   ]
  },
  {
   "cell_type": "code",
   "execution_count": null,
   "metadata": {},
   "outputs": [],
   "source": []
  },
  {
   "cell_type": "code",
   "execution_count": null,
   "metadata": {},
   "outputs": [],
   "source": []
  },
  {
   "cell_type": "code",
   "execution_count": 10,
   "metadata": {},
   "outputs": [
    {
     "ename": "NameError",
     "evalue": "name 'node_features' is not defined",
     "output_type": "error",
     "traceback": [
      "\u001b[1;31m---------------------------------------------------------------------------\u001b[0m",
      "\u001b[1;31mNameError\u001b[0m                                 Traceback (most recent call last)",
      "Cell \u001b[1;32mIn[10], line 18\u001b[0m\n\u001b[0;32m      8\u001b[0m sparse_edge_index, sparse_edge_attr \u001b[38;5;241m=\u001b[39m dense_to_sparse(adj_matrix)\n\u001b[0;32m     10\u001b[0m \u001b[38;5;66;03m# ✅ Create dataset with correct `connectivity`\u001b[39;00m\n\u001b[0;32m     11\u001b[0m dataset_st \u001b[38;5;241m=\u001b[39m SpatioTemporalDataset(\n\u001b[0;32m     12\u001b[0m     target\u001b[38;5;241m=\u001b[39mpositions_links_df[\u001b[38;5;124m\"\u001b[39m\u001b[38;5;124mnode_id\u001b[39m\u001b[38;5;124m\"\u001b[39m]\u001b[38;5;241m.\u001b[39mvalues,\n\u001b[0;32m     13\u001b[0m     index\u001b[38;5;241m=\u001b[39mpositions_links_df[\u001b[38;5;124m\"\u001b[39m\u001b[38;5;124mmerged_datetime\u001b[39m\u001b[38;5;124m\"\u001b[39m],\n\u001b[0;32m     14\u001b[0m     connectivity\u001b[38;5;241m=\u001b[39m(sparse_edge_index, sparse_edge_attr),  \u001b[38;5;66;03m# ✅ Graph structure with edge attributes\u001b[39;00m\n\u001b[0;32m     15\u001b[0m     covariates\u001b[38;5;241m=\u001b[39m{  \u001b[38;5;66;03m# ✅ Include node and edge attributes here\u001b[39;00m\n\u001b[0;32m     16\u001b[0m         \u001b[38;5;124m\"\u001b[39m\u001b[38;5;124mparticipant_id\u001b[39m\u001b[38;5;124m\"\u001b[39m: positions_links_df[\u001b[38;5;124m\"\u001b[39m\u001b[38;5;124mid_participant\u001b[39m\u001b[38;5;124m\"\u001b[39m]\u001b[38;5;241m.\u001b[39mvalues,\n\u001b[0;32m     17\u001b[0m         \u001b[38;5;124m\"\u001b[39m\u001b[38;5;124mspeed\u001b[39m\u001b[38;5;124m\"\u001b[39m: positions_links_df[\u001b[38;5;124m\"\u001b[39m\u001b[38;5;124mspeed\u001b[39m\u001b[38;5;124m\"\u001b[39m]\u001b[38;5;241m.\u001b[39mvalues,\n\u001b[1;32m---> 18\u001b[0m         \u001b[38;5;124m\"\u001b[39m\u001b[38;5;124mnode_features\u001b[39m\u001b[38;5;124m\"\u001b[39m: \u001b[43mnode_features\u001b[49m\u001b[38;5;241m.\u001b[39mnumpy(),  \u001b[38;5;66;03m# ✅ Add node features here\u001b[39;00m\n\u001b[0;32m     19\u001b[0m     },\n\u001b[0;32m     20\u001b[0m     window\u001b[38;5;241m=\u001b[39m\u001b[38;5;241m12\u001b[39m,\n\u001b[0;32m     21\u001b[0m     horizon\u001b[38;5;241m=\u001b[39m\u001b[38;5;241m1\u001b[39m\n\u001b[0;32m     22\u001b[0m )\n",
      "\u001b[1;31mNameError\u001b[0m: name 'node_features' is not defined"
     ]
    }
   ],
   "source": [
    "from torch_geometric.utils import dense_to_sparse\n",
    "\n",
    "# Convert `edge_index` and `edge_attr` into a valid adjacency matrix\n",
    "adj_matrix = torch.zeros((len(nodes_df), len(nodes_df)))\n",
    "adj_matrix[edge_index[0], edge_index[1]] = edge_attr[:, 0]  # Assuming first edge attribute is weight\n",
    "\n",
    "# Convert to sparse format\n",
    "sparse_edge_index, sparse_edge_attr = dense_to_sparse(adj_matrix)\n",
    "\n",
    "# ✅ Create dataset with correct `connectivity`\n",
    "dataset_st = SpatioTemporalDataset(\n",
    "    target=positions_links_df[\"node_id\"].values,\n",
    "    index=positions_links_df[\"merged_datetime\"],\n",
    "    connectivity=(sparse_edge_index, sparse_edge_attr),  # ✅ Graph structure with edge attributes\n",
    "    covariates={  # ✅ Include node and edge attributes here\n",
    "        \"participant_id\": positions_links_df[\"id_participant\"].values,\n",
    "        \"speed\": positions_links_df[\"speed\"].values,\n",
    "        \"node_features\": node_features.numpy(),  # ✅ Add node features here\n",
    "    },\n",
    "    window=12,\n",
    "    horizon=1\n",
    ")"
   ]
  },
  {
   "cell_type": "code",
   "execution_count": null,
   "metadata": {},
   "outputs": [],
   "source": [
    "node_features = torch.tensor(nodes_df[['node_x', 'node_y']].values, dtype=torch.long)\n",
    "edge_index = torch.tensor([positions_links_df['prev_node_id'].values, positions_links_df['node_id'].values], dtype=torch.long)\n",
    "edge_attr = torch.tensor(\n",
    "    np.vstack([\n",
    "        positions_links_df['id_participant'].values,\n",
    "        positions_links_df['timestamp'].values,\n",
    "        positions_links_df['speed'].values\n",
    "    ]).T,\n",
    "    dtype=torch.float\n",
    ")\n"
   ]
  },
  {
   "cell_type": "code",
   "execution_count": null,
   "metadata": {},
   "outputs": [],
   "source": [
    "DatetimeDataset.similarity_options.add(None)\n",
    "\n",
    "target = positions_links_df[['node_id']].astype(int)\n",
    "target.index = pd.MultiIndex.from_frame(positions_links_df[['merged_datetime', 'node_id']]) \n",
    "\n",
    "dataset_ts = DatetimeDataset(\n",
    "    target=positions_links_df[['node_id']],  \n",
    "    covariates={},                                  # i can put the node weather values and the sinusoidal time encoding here\n",
    "    freq=None,\n",
    "    sort_index=True,\n",
    "    force_synchronization=True,                     # might need to look into this\n",
    "    similarity_score=None\n",
    ")\n"
   ]
  },
  {
   "cell_type": "code",
   "execution_count": null,
   "metadata": {},
   "outputs": [],
   "source": [
    "print(dataset_ts)\n",
    "print(\"Number of nodes in dataset:\", dataset_ts.n_nodes)\n",
    "\n",
    "print(\"\\nTarget Preview:\")\n",
    "print(dataset_ts.target.head())\n",
    "\n",
    "print(\"\\nCovariates Keys:\")\n",
    "print(dataset_ts.covariates.keys())\n",
    "\n",
    "print(\"\\nFirst Few Time Steps:\")\n",
    "print(dataset_ts.index[:5])"
   ]
  },
  {
   "cell_type": "code",
   "execution_count": null,
   "metadata": {},
   "outputs": [],
   "source": [
    "target = positions_links_df[['node_id']]\n",
    "\n",
    "print(target.index[:5])  # Should show timestamps\n",
    "print(target.columns)  # Should show ['node_id']\n",
    "print(target.shape)  # Should match expected (num_time_steps, num_features)"
   ]
  },
  {
   "cell_type": "code",
   "execution_count": null,
   "metadata": {},
   "outputs": [],
   "source": [
    "print(dataset_ts.target.shape)\n",
    "print(\"Unique nodes in dataset:\", positions_links_df[\"node_id\"].nunique())\n",
    "\n",
    "\n"
   ]
  }
 ],
 "metadata": {
  "kernelspec": {
   "display_name": ".venvth",
   "language": "python",
   "name": "python3"
  },
  "language_info": {
   "codemirror_mode": {
    "name": "ipython",
    "version": 3
   },
   "file_extension": ".py",
   "mimetype": "text/x-python",
   "name": "python",
   "nbconvert_exporter": "python",
   "pygments_lexer": "ipython3",
   "version": "3.13.0"
  }
 },
 "nbformat": 4,
 "nbformat_minor": 2
}
